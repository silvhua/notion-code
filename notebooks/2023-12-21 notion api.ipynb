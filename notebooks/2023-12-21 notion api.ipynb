{
 "cells": [
  {
   "cell_type": "markdown",
   "id": "68e23905",
   "metadata": {},
   "source": [
    "# time stamp"
   ]
  },
  {
   "cell_type": "code",
   "execution_count": 1,
   "id": "ce2fa16e",
   "metadata": {},
   "outputs": [
    {
     "name": "stdout",
     "output_type": "stream",
     "text": [
      "2023-12-21_0928\n"
     ]
    }
   ],
   "source": [
    "var timestamp = new Date().toISOString().replace(/[T]/g, '_').slice(0, -8).replace(/[:.]/g, '');\n",
    "console.log(timestamp);"
   ]
  },
  {
   "cell_type": "code",
   "execution_count": 14,
   "id": "db63cf86",
   "metadata": {},
   "outputs": [
    {
     "name": "stdout",
     "output_type": "stream",
     "text": [
      "12212023125622AM\n"
     ]
    }
   ],
   "source": [
    "var timestamp = new Date().toLocaleString(\"en-US\", { timeZone: \"America/Los_Angeles\" }).replace(/[\\/\\s:,]/g, '');\n",
    "console.log(timestamp);"
   ]
  },
  {
   "cell_type": "code",
   "execution_count": 17,
   "id": "5b44346c",
   "metadata": {},
   "outputs": [
    {
     "name": "stdout",
     "output_type": "stream",
     "text": [
      "12/21/2023, 12:57:39 AM\n"
     ]
    }
   ],
   "source": [
    "var timestamp = new Date().toLocaleString(\"en-US\", { timeZone: \"America/Los_Angeles\" });\n",
    "console.log(timestamp);"
   ]
  },
  {
   "cell_type": "code",
   "execution_count": 20,
   "id": "3c7fc5e1",
   "metadata": {},
   "outputs": [
    {
     "name": "stdout",
     "output_type": "stream",
     "text": [
      "12/21/2023T1:00:55 AM\n"
     ]
    }
   ],
   "source": [
    "const isoStringInPT = new Date().toLocaleString('en-US', { timeZone: 'America/Los_Angeles' }).split(', ').join('T');\n",
    "\n",
    "console.log(isoStringInPT);\n",
    "\n"
   ]
  },
  {
   "cell_type": "code",
   "execution_count": 21,
   "id": "9e569c76",
   "metadata": {},
   "outputs": [
    {
     "name": "stdout",
     "output_type": "stream",
     "text": [
      "2023-12-21T09:01:17.462Z\n"
     ]
    }
   ],
   "source": [
    "var timestamp = new Date().toISOString()\n",
    "console.log(timestamp);"
   ]
  },
  {
   "cell_type": "code",
   "execution_count": 22,
   "id": "bb979f95",
   "metadata": {},
   "outputs": [
    {
     "name": "stdout",
     "output_type": "stream",
     "text": [
      "2023-12-21T09:01:38.149Z\n"
     ]
    }
   ],
   "source": [
    "var timestamp = new Date()\n",
    "console.log(timestamp);"
   ]
  },
  {
   "cell_type": "code",
   "execution_count": 23,
   "id": "188e39d3",
   "metadata": {},
   "outputs": [
    {
     "name": "stdout",
     "output_type": "stream",
     "text": [
      "12/21/2023, 1:02:45 AM\n"
     ]
    }
   ],
   "source": [
    "var timestamp = new Date().toLocaleString(\"en-US\", { timeZone: \"America/Los_Angeles\" });\n",
    "console.log(timestamp);"
   ]
  },
  {
   "cell_type": "code",
   "execution_count": 24,
   "id": "d75e1aee",
   "metadata": {},
   "outputs": [
    {
     "ename": "Error",
     "evalue": "Cannot find module 'luxon'\nRequire stack:\n- /home/silvhua/repositories/notion/[eval]",
     "output_type": "error",
     "traceback": [
      "node:internal/modules/cjs/loader:936",
      "  throw err;",
      "  ^",
      "",
      "Error: Cannot find module 'luxon'",
      "Require stack:",
      "- /home/silvhua/repositories/notion/[eval]",
      "    at Function.Module._resolveFilename (node:internal/modules/cjs/loader:933:15)",
      "    at Function.Module._load (node:internal/modules/cjs/loader:778:27)",
      "    at Module.require (node:internal/modules/cjs/loader:999:19)",
      "    at require (node:internal/modules/cjs/helpers:102:18)",
      "    at evalmachine.<anonymous>:1:22",
      "    at Script.runInThisContext (node:vm:129:12)",
      "    at Object.runInThisContext (node:vm:305:38)",
      "    at run ([eval]:1020:15)",
      "    at onRunRequest ([eval]:864:18)",
      "    at onMessage ([eval]:828:13)"
     ]
    }
   ],
   "source": [
    "const { DateTime } = require('luxon');\n",
    "\n",
    "var timestamp = DateTime.now().setZone('America/Los_Angeles').toISO();\n",
    "console.log(timestamp);"
   ]
  },
  {
   "cell_type": "code",
   "execution_count": 25,
   "id": "57662deb",
   "metadata": {},
   "outputs": [
    {
     "ename": "TypeError",
     "evalue": "date.toISOString is not a function",
     "output_type": "error",
     "traceback": [
      "evalmachine.<anonymous>:2",
      "var formattedTimestamp = date.toISOString().replace(/[-T:]/g, '').slice(0, -4);",
      "                              ^",
      "",
      "TypeError: date.toISOString is not a function",
      "    at evalmachine.<anonymous>:2:31",
      "    at Script.runInThisContext (node:vm:129:12)",
      "    at Object.runInThisContext (node:vm:305:38)",
      "    at run ([eval]:1020:15)",
      "    at onRunRequest ([eval]:864:18)",
      "    at onMessage ([eval]:828:13)",
      "    at process.emit (node:events:527:28)",
      "    at emit (node:internal/child_process:936:14)",
      "    at processTicksAndRejections (node:internal/process/task_queues:84:21)"
     ]
    }
   ],
   "source": [
    "var date = new Date().toLocaleString(\"en-US\", { timeZone: \"America/Los_Angeles\" });\n",
    "var formattedTimestamp = date.toISOString().replace(/[-T:]/g, '').slice(0, -4);\n",
    "console.log(formattedTimestamp);"
   ]
  },
  {
   "cell_type": "code",
   "execution_count": 27,
   "id": "b96d3fdc",
   "metadata": {},
   "outputs": [
    {
     "name": "stdout",
     "output_type": "stream",
     "text": [
      "2023-12-21_0107\n"
     ]
    }
   ],
   "source": [
    "var date = new Date().toLocaleString(\"en-US\", { timeZone: \"America/Los_Angeles\" });\n",
    "var dateTime = new Date(date);\n",
    "var year = dateTime.getFullYear();\n",
    "var month = String(dateTime.getMonth() + 1).padStart(2, \"0\");\n",
    "var day = String(dateTime.getDate()).padStart(2, \"0\");\n",
    "var hours = String(dateTime.getHours()).padStart(2, \"0\");\n",
    "var minutes = String(dateTime.getMinutes()).padStart(2, \"0\");\n",
    "var formattedTimestamp = year + \"-\" + month + \"-\" + day + \"_\" + hours + minutes;\n",
    "console.log(formattedTimestamp);"
   ]
  },
  {
   "cell_type": "code",
   "execution_count": 28,
   "id": "f2fb9691",
   "metadata": {},
   "outputs": [
    {
     "name": "stdout",
     "output_type": "stream",
     "text": [
      "2023-12-21_0108\n"
     ]
    }
   ],
   "source": [
    "function getCurrentTimestamp() {\n",
    "    var date = new Date().toLocaleString(\"en-US\", { timeZone: \"America/Los_Angeles\" });\n",
    "    var dateTime = new Date(date);\n",
    "    var year = dateTime.getFullYear();\n",
    "    var month = String(dateTime.getMonth() + 1).padStart(2, \"0\");\n",
    "    var day = String(dateTime.getDate()).padStart(2, \"0\");\n",
    "    var hours = String(dateTime.getHours()).padStart(2, \"0\");\n",
    "    var minutes = String(dateTime.getMinutes()).padStart(2, \"0\");\n",
    "    var formattedTimestamp = year + \"-\" + month + \"-\" + day + \"_\" + hours + minutes;\n",
    "    return formattedTimestamp;\n",
    "  }\n",
    "  \n",
    "  console.log(getCurrentTimestamp());"
   ]
  },
  {
   "cell_type": "markdown",
   "id": "33e7a3a5",
   "metadata": {},
   "source": [
    "# Iteration 1\n",
    "https://www.notion.so/bcd0d296955b4b928621e4b96ebad29c?v=a8119fc56ab54d5da0c6e262fcd47a86&pvs=4"
   ]
  },
  {
   "cell_type": "markdown",
   "id": "9b1b1562",
   "metadata": {},
   "source": [
    "# Iteration 2"
   ]
  },
  {
   "cell_type": "code",
   "execution_count": null,
   "id": "9df8c205",
   "metadata": {},
   "outputs": [],
   "source": [
    "// Assuming you have an environmental variable named MY_VARIABLE\n",
    "var myVariableValue = process.env.notion_secret;\n",
    "\n",
    "// Check if the variable is defined\n",
    "if (myVariableValue) {\n",
    "  console.log(`The value of MY_VARIABLE is: ${myVariableValue}`);\n",
    "} else {\n",
    "  console.log('MY_VARIABLE is not defined.');\n",
    "}\n"
   ]
  },
  {
   "cell_type": "markdown",
   "id": "3e7b1ed4",
   "metadata": {},
   "source": [
    "# Iteration 3 "
   ]
  },
  {
   "cell_type": "markdown",
   "id": "1ed1197c",
   "metadata": {},
   "source": [
    "## load database IDs from file"
   ]
  },
  {
   "cell_type": "code",
   "execution_count": null,
   "id": "b027c624",
   "metadata": {},
   "outputs": [],
   "source": [
    "var fs = require('fs');\n",
    "\n",
    "function loadJsonFile(filename, path = '../private') {\n",
    "  try {\n",
    "    const filePath = `${path}/${filename}`;\n",
    "    const jsonData = fs.readFileSync(filePath, 'utf8');\n",
    "    const data = JSON.parse(jsonData);\n",
    "    return data;\n",
    "  } catch (error) {\n",
    "    console.error('Error loading JSON file:', error);\n",
    "    return null;\n",
    "  }\n",
    "}\n",
    "\n",
    "databases = loadJsonFile('databases.json');\n"
   ]
  },
  {
   "cell_type": "code",
   "execution_count": null,
   "id": "4200fb9d",
   "metadata": {},
   "outputs": [],
   "source": [
    "console.log(databases['time_tracking'])"
   ]
  },
  {
   "cell_type": "markdown",
   "id": "0f5eaa98",
   "metadata": {},
   "source": [
    "## Create date filters"
   ]
  },
  {
   "cell_type": "markdown",
   "id": "fe45a715",
   "metadata": {},
   "source": [
    "## Create timestamp for most recent Monday"
   ]
  },
  {
   "cell_type": "markdown",
   "id": "2755bd88",
   "metadata": {},
   "source": [
    "## Create date filters"
   ]
  },
  {
   "cell_type": "code",
   "execution_count": 7,
   "id": "8a8d370b",
   "metadata": {},
   "outputs": [
    {
     "name": "stdout",
     "output_type": "stream",
     "text": [
      "2023-12-19T08:00:00.000Z\n"
     ]
    }
   ],
   "source": [
    "function getMidnightTimestamp() {\n",
    "    const now = new Date();\n",
    "    const currentDayOfWeek = now.getDay(); // 0 (Sunday) to 6 (Saturday)\n",
    "    const daysSinceLastMonday = (currentDayOfWeek + 6) % 7;\n",
    "    const daysUntilLastMonday = daysSinceLastMonday === 0 ? 6 : daysSinceLastMonday - 1;\n",
    "    const lastMonday = new Date(now);\n",
    "    lastMonday.setDate(now.getDate() - daysUntilLastMonday);\n",
    "    lastMonday.setHours(0, 0, 0, 0);\n",
    "    return lastMonday.toISOString();\n",
    "  }\n",
    "  \n",
    "  const timestamp = getMidnightTimestamp();\n",
    "  console.log(timestamp);"
   ]
  },
  {
   "cell_type": "code",
   "execution_count": null,
   "metadata": {},
   "outputs": [
    {
     "name": "stdout",
     "output_type": "stream",
     "text": [
      "Response saved to ../data/notion_time_tracking_1wk_2023-12-21_2240.json\n"
     ]
    }
   ],
   "source": [
    "var { Client } = require('@notionhq/client');\n",
    "var fs = require('fs').promises;\n",
    "\n",
    "\n",
    "\n",
    "function getCurrentTimestamp() {\n",
    "  var date = new Date().toLocaleString(\"en-US\", { timeZone: \"America/Los_Angeles\" });\n",
    "  var dateTime = new Date(date);\n",
    "  var year = dateTime.getFullYear();\n",
    "  var month = String(dateTime.getMonth() + 1).padStart(2, \"0\");\n",
    "  var day = String(dateTime.getDate()).padStart(2, \"0\");\n",
    "  var hours = String(dateTime.getHours()).padStart(2, \"0\");\n",
    "  var minutes = String(dateTime.getMinutes()).padStart(2, \"0\");\n",
    "  var formattedTimestamp = year + \"-\" + month + \"-\" + day + \"_\" + hours + minutes;\n",
    "  return formattedTimestamp;\n",
    "}\n",
    "\n",
    "\n",
    "async function queryNotionAndSaveResponse(\n",
    "  date_filter={past_week: {},}, jsonFileName='../data/notion_time_tracking_1wk', save = true, appendTimestamp = true) {\n",
    "  let notionApiKey = process.env.notion_secret;\n",
    "  let notion = new Client({ auth: notionApiKey });\n",
    "\n",
    "  let response = await notion.databases.query({\n",
    "    database_id: process.env.notion_database,\n",
    "    filter: {\n",
    "      property: 'Created time',\n",
    "      date: date_filter,\n",
    "    }\n",
    "  });\n",
    "\n",
    "\n",
    "  if (save) {\n",
    "    // Add timestamp to the file name if appendTimestamp is true\n",
    "    if (appendTimestamp) {\n",
    "      const timestamp = getCurrentTimestamp();\n",
    "      jsonFileName = `${jsonFileName}_${timestamp}`;\n",
    "    }\n",
    "\n",
    "    // Save the response as a JSON file\n",
    "    await fs.writeFile(`${jsonFileName}.json`, JSON.stringify(response[\"results\"], null, 2));\n",
    "\n",
    "    console.log(`Response saved to ${jsonFileName}.json`);\n",
    "  }\n",
    "  return response\n",
    "}\n",
    "\n",
    "\n",
    "\n",
    "var response = queryNotionAndSaveResponse();"
   ]
  },
  {
   "cell_type": "code",
   "execution_count": 17,
   "id": "16d8ea2a",
   "metadata": {},
   "outputs": [
    {
     "name": "stdout",
     "output_type": "stream",
     "text": [
      "2023-12-18T08:00:00.000Z\n"
     ]
    }
   ],
   "source": [
    "function getMidnightTimestamp() {\n",
    "    const now = new Date();\n",
    "    const currentDayOfWeek = now.getDay(); // 0 (Sunday) to 6 (Saturday)\n",
    "    const daysSinceLastMonday = (currentDayOfWeek + 6) % 7;\n",
    "    const daysUntilLastMonday = daysSinceLastMonday === 0 ? 6 : daysSinceLastMonday;\n",
    "    const lastMonday = new Date(now);\n",
    "    lastMonday.setDate(now.getDate() - daysUntilLastMonday);\n",
    "    lastMonday.setHours(0, 0, 0, 0);\n",
    "    return lastMonday.toISOString();\n",
    "  }\n",
    "  \n",
    "  var timestamp2 = getMidnightTimestamp();\n",
    "  console.log(timestamp2);"
   ]
  },
  {
   "cell_type": "code",
   "execution_count": 16,
   "id": "e80a6c75",
   "metadata": {},
   "outputs": [
    {
     "name": "stdout",
     "output_type": "stream",
     "text": [
      "2023-12-18T08:00:00.000Z\n"
     ]
    }
   ],
   "source": [
    "function getMidnightTimestamp() {\n",
    "    const now = new Date();\n",
    "    const currentDayOfWeek = now.getDay(); // 0 (Sunday) to 6 (Saturday)\n",
    "    const daysSinceLastMonday = currentDayOfWeek === 0 ? 6 : currentDayOfWeek - 1;\n",
    "    const daysUntilLastMonday = daysSinceLastMonday === 0 ? 7 : daysSinceLastMonday;\n",
    "    const lastMonday = new Date(now);\n",
    "    lastMonday.setDate(now.getDate() - daysUntilLastMonday);\n",
    "    lastMonday.setHours(0, 0, 0, 0);\n",
    "    return lastMonday.toISOString();\n",
    "  }\n",
    "  \n",
    "\n",
    "var timestamp2 = getMidnightTimestamp();\n",
    "console.log(timestamp2);"
   ]
  },
  {
   "cell_type": "markdown",
   "id": "aed32b3f",
   "metadata": {},
   "source": [
    "### ChatGPT"
   ]
  },
  {
   "cell_type": "code",
   "execution_count": 15,
   "id": "28ffeb63",
   "metadata": {},
   "outputs": [
    {
     "name": "stdout",
     "output_type": "stream",
     "text": [
      "2023-12-19T08:00:00.000Z\n"
     ]
    }
   ],
   "source": [
    "function getMostRecentMonday() {\n",
    "    const now = new Date();\n",
    "    const currentDayOfWeek = now.getUTCDay(); // 0 is Sunday, 1 is Monday, ..., 6 is Saturday\n",
    "    const daysSinceMonday = (currentDayOfWeek + 6) % 7; // Calculate days since Monday\n",
    "  \n",
    "    // Calculate the start of the most recent Monday\n",
    "    const startOfMonday = new Date(\n",
    "      now.getUTCFullYear(),\n",
    "      now.getUTCMonth(),\n",
    "      now.getUTCDate() - daysSinceMonday,\n",
    "      0, // Hours\n",
    "      0, // Minutes\n",
    "      0, // Seconds\n",
    "      0  // Milliseconds\n",
    "    );\n",
    "  \n",
    "    // Format the date in ISO 8601\n",
    "    const iso8601Timestamp = startOfMonday.toISOString();\n",
    "  \n",
    "    return iso8601Timestamp;\n",
    "  }\n",
    "  \n",
    "  // Example usage\n",
    "var timestamp2 = getMostRecentMonday();\n",
    "console.log(timestamp);\n",
    "  "
   ]
  },
  {
   "cell_type": "markdown",
   "id": "e43cd83a",
   "metadata": {},
   "source": [
    "## Create time stamp for given date string"
   ]
  },
  {
   "cell_type": "code",
   "execution_count": 19,
   "id": "2bdd3ef2",
   "metadata": {},
   "outputs": [
    {
     "name": "stdout",
     "output_type": "stream",
     "text": [
      "2022-03-15T00:00:00.000Z\n"
     ]
    }
   ],
   "source": [
    "function getIsoTimestamp(dateString) {\n",
    "  const date = new Date(dateString);\n",
    "  const timestamp = date.toISOString();\n",
    "  return timestamp;\n",
    "}\n",
    "\n",
    "// Example usage:\n",
    "\n",
    "console.log(getIsoTimestamp('2022-03-15'));"
   ]
  },
  {
   "cell_type": "markdown",
   "id": "d0440009",
   "metadata": {},
   "source": [
    "## multipurpose time stamp"
   ]
  },
  {
   "cell_type": "code",
   "execution_count": 20,
   "id": "82ca7d3d",
   "metadata": {},
   "outputs": [
    {
     "name": "stdout",
     "output_type": "stream",
     "text": [
      "2023-12-19T08:00:00.000Z\n",
      "1701936000000\n",
      "1698822000000\n",
      "1693551600000\n"
     ]
    }
   ],
   "source": [
    "function getTimestamp(option, nMonths = 1) {\n",
    "  const now = new Date();\n",
    "\n",
    "  if (option === 'week') {\n",
    "    const dayOfWeek = now.getDay();\n",
    "    const daysSinceLastMonday = (dayOfWeek + 6) % 7;\n",
    "    const startOfLastMonday = new Date(now.getFullYear(), now.getMonth(), now.getDate() - daysSinceLastMonday);\n",
    "    return startOfLastMonday.getTime();\n",
    "  }\n",
    "\n",
    "  if (option === 'lastWeek') {\n",
    "    const startOfTwoMondaysAgo = new Date(now.getFullYear(), now.getMonth(), now.getDate() - 14);\n",
    "    return startOfTwoMondaysAgo.getTime();\n",
    "  }\n",
    "\n",
    "  if (option === 'month') {\n",
    "    const startOfPreviousMonth = new Date(now.getFullYear(), now.getMonth() - 1, 1);\n",
    "    return startOfPreviousMonth.getTime();\n",
    "  }\n",
    "\n",
    "  if (option === 'months') {\n",
    "    const startOfNMonthsAgo = new Date(now.getFullYear(), now.getMonth() - nMonths, 1);\n",
    "    return startOfNMonthsAgo.getTime();\n",
    "  }\n",
    "\n",
    "  return null; // Invalid option\n",
    "}\n",
    "\n",
    "var timestampMon = getTimestamp('week');\n",
    "console.log(timestamp);\n",
    "\n",
    "var timestampLastWeek = getTimestamp('lastWeek');\n",
    "console.log(timestampLastWeek);\n",
    "\n",
    "var timestampMonth = getTimestamp('month');\n",
    "console.log(timestampMonth);\n",
    "\n",
    "var timestampNMonthsAgo = getTimestamp('months', 3);\n",
    "console.log(timestampNMonthsAgo);"
   ]
  },
  {
   "cell_type": "code",
   "execution_count": 22,
   "id": "d5dd8a6e",
   "metadata": {},
   "outputs": [
    {
     "name": "stdout",
     "output_type": "stream",
     "text": [
      "2023-12-18T08:00:00.000Z\n",
      "2023-12-07T08:00:00.000Z\n",
      "2023-11-01T07:00:00.000Z\n",
      "2023-09-01T07:00:00.000Z\n"
     ]
    }
   ],
   "source": [
    "function getTimestamp(option, nMonths = 1) {\n",
    "  const now = new Date();\n",
    "\n",
    "  if (option === 'week') {\n",
    "    const dayOfWeek = now.getDay();\n",
    "    const daysSinceLastMonday = (dayOfWeek + 6) % 7;\n",
    "    const startOfLastMonday = new Date(now.getFullYear(), now.getMonth(), now.getDate() - daysSinceLastMonday);\n",
    "    return startOfLastMonday.toISOString();\n",
    "  }\n",
    "\n",
    "  if (option === 'lastWeek') {\n",
    "    const startOfTwoMondaysAgo = new Date(now.getFullYear(), now.getMonth(), now.getDate() - 14);\n",
    "    return startOfTwoMondaysAgo.toISOString();\n",
    "  }\n",
    "\n",
    "  if (option === 'month') {\n",
    "    const startOfPreviousMonth = new Date(now.getFullYear(), now.getMonth() - 1, 1);\n",
    "    return startOfPreviousMonth.toISOString();\n",
    "  }\n",
    "\n",
    "  if (option === 'months') {\n",
    "    const startOfNMonthsAgo = new Date(now.getFullYear(), now.getMonth() - nMonths, 1);\n",
    "    return startOfNMonthsAgo.toISOString();\n",
    "  }\n",
    "\n",
    "  return null; // Invalid option\n",
    "}\n",
    "\n",
    "var timestampMon = getTimestamp('week');\n",
    "console.log(timestampMon);\n",
    "\n",
    "var timestampLastWeek = getTimestamp('lastWeek');\n",
    "console.log(timestampLastWeek);\n",
    "\n",
    "var timestampMonth = getTimestamp('month');\n",
    "console.log(timestampMonth);\n",
    "\n",
    "var timestampNMonthsAgo = getTimestamp('months', 3);\n",
    "console.log(timestampNMonthsAgo);"
   ]
  },
  {
   "cell_type": "code",
   "execution_count": 23,
   "id": "5322320b",
   "metadata": {},
   "outputs": [
    {
     "name": "stdout",
     "output_type": "stream",
     "text": [
      "2023-12-18T08:00:00.000Z\n",
      "2023-12-11T08:00:00.000Z\n",
      "2023-11-01T07:00:00.000Z\n",
      "2023-09-01T07:00:00.000Z\n"
     ]
    }
   ],
   "source": [
    "function getTimestamp(option, nMonths = 1) {\n",
    "  const now = new Date();\n",
    "\n",
    "  if (option === 'week') {\n",
    "    const dayOfWeek = now.getDay();\n",
    "    const daysSinceLastMonday = (dayOfWeek + 6) % 7;\n",
    "    const startOfLastMonday = new Date(now.getFullYear(), now.getMonth(), now.getDate() - daysSinceLastMonday);\n",
    "    return startOfLastMonday.toISOString();\n",
    "  }\n",
    "\n",
    "  if (option === 'lastWeek') {\n",
    "    const mondayOfLastWeek = new Date(now.getFullYear(), now.getMonth(), now.getDate() - 7 - ((now.getDay() + 6) % 7));\n",
    "    return mondayOfLastWeek.toISOString();\n",
    "  }\n",
    "\n",
    "  if (option === 'month') {\n",
    "    const startOfPreviousMonth = new Date(now.getFullYear(), now.getMonth() - 1, 1);\n",
    "    return startOfPreviousMonth.toISOString();\n",
    "  }\n",
    "\n",
    "  if (option === 'months') {\n",
    "    const startOfNMonthsAgo = new Date(now.getFullYear(), now.getMonth() - nMonths, 1);\n",
    "    return startOfNMonthsAgo.toISOString();\n",
    "  }\n",
    "\n",
    "  return null; // Invalid option\n",
    "}\n",
    "var timestampMon = getTimestamp('week');\n",
    "console.log(timestampMon);\n",
    "\n",
    "var timestampLastWeek = getTimestamp('lastWeek');\n",
    "console.log(timestampLastWeek);\n",
    "\n",
    "var timestampMonth = getTimestamp('month');\n",
    "console.log(timestampMonth);\n",
    "\n",
    "var timestampNMonthsAgo = getTimestamp('months', 3);\n",
    "console.log(timestampNMonthsAgo);"
   ]
  },
  {
   "cell_type": "markdown",
   "id": "884e34ac",
   "metadata": {},
   "source": [
    "## Create date filters"
   ]
  },
  {
   "cell_type": "code",
   "execution_count": 27,
   "id": "308fadfd",
   "metadata": {},
   "outputs": [
    {
     "name": "stdout",
     "output_type": "stream",
     "text": [
      "2023-12-21_1643\n",
      "Promise { <pending> }\n"
     ]
    },
    {
     "name": "stderr",
     "output_type": "stream",
     "text": [
      "@notionhq/client warn: request fail {\n",
      "  code: 'validation_error',\n",
      "  message: 'body failed validation. Fix one:\\n' +\n",
      "    'body.filter.date.equals should be defined, instead was `undefined`.\\n' +\n",
      "    'body.filter.date.before should be defined, instead was `undefined`.\\n' +\n",
      "    'body.filter.date.after should be defined, instead was `undefined`.\\n' +\n",
      "    'body.filter.date.on_or_before should be defined, instead was `undefined`.\\n' +\n",
      "    'body.filter.date.on_or_after should be defined, instead was `undefined`.\\n' +\n",
      "    'body.filter.date.this_week should be defined, instead was `undefined`.\\n' +\n",
      "    'body.filter.date.past_week should be defined, instead was `undefined`.\\n' +\n",
      "    'body.filter.date.past_month should be defined, instead was `undefined`.\\n' +\n",
      "    'body.filter.date.past_year should be defined, instead was `undefined`.\\n' +\n",
      "    'body.filter.date.next_week should be defined, instead was `undefined`.\\n' +\n",
      "    'body.filter.date.next_month should be defined, instead was `undefined`.\\n' +\n",
      "    'body.filter.date.next_year should be defined, instead was `undefined`.\\n' +\n",
      "    'body.filter.date.is_empty should be defined, instead was `undefined`.\\n' +\n",
      "    'body.filter.date.is_not_empty should be defined, instead was `undefined`.'\n",
      "}\n",
      "APIResponseError: body failed validation. Fix one:\n",
      "body.filter.date.equals should be defined, instead was `undefined`.\n",
      "body.filter.date.before should be defined, instead was `undefined`.\n",
      "body.filter.date.after should be defined, instead was `undefined`.\n",
      "body.filter.date.on_or_before should be defined, instead was `undefined`.\n",
      "body.filter.date.on_or_after should be defined, instead was `undefined`.\n",
      "body.filter.date.this_week should be defined, instead was `undefined`.\n",
      "body.filter.date.past_week should be defined, instead was `undefined`.\n",
      "body.filter.date.past_month should be defined, instead was `undefined`.\n",
      "body.filter.date.past_year should be defined, instead was `undefined`.\n",
      "body.filter.date.next_week should be defined, instead was `undefined`.\n",
      "body.filter.date.next_month should be defined, instead was `undefined`.\n",
      "body.filter.date.next_year should be defined, instead was `undefined`.\n",
      "body.filter.date.is_empty should be defined, instead was `undefined`.\n",
      "body.filter.date.is_not_empty should be defined, instead was `undefined`.\n",
      "    at buildRequestError (/home/silvhua/repositories/notion/node_modules/@notionhq/client/build/src/errors.js:162:16)\n",
      "    at Client.request (/home/silvhua/repositories/notion/node_modules/@notionhq/client/build/src/Client.js:378:54)\n",
      "    at processTicksAndRejections (node:internal/process/task_queues:96:5)\n",
      "    at async queryNotionAndSaveResponse (evalmachine.<anonymous>:24:18)"
     ]
    }
   ],
   "source": [
    "var { Client } = require('@notionhq/client');\n",
    "// var fs = require('fs').promises;\n",
    "\n",
    "function getCurrentTimestamp() {\n",
    "  var date = new Date().toLocaleString(\"en-US\", { timeZone: \"America/Los_Angeles\" });\n",
    "  var dateTime = new Date(date);\n",
    "  var year = dateTime.getFullYear();\n",
    "  var month = String(dateTime.getMonth() + 1).padStart(2, \"0\");\n",
    "  var day = String(dateTime.getDate()).padStart(2, \"0\");\n",
    "  var hours = String(dateTime.getHours()).padStart(2, \"0\");\n",
    "  var minutes = String(dateTime.getMinutes()).padStart(2, \"0\");\n",
    "  var formattedTimestamp = year + \"-\" + month + \"-\" + day + \"_\" + hours + minutes;\n",
    "  return formattedTimestamp;\n",
    "}\n",
    "\n",
    "console.log(getCurrentTimestamp());\n",
    "\n",
    "async function queryNotionAndSaveResponse(\n",
    "  databaseId, jsonFileName, date_filter={past_week: {}}, save=true, appendTimestamp = false\n",
    "  ) {\n",
    "  let notionApiKey = process.env.notion_secret;\n",
    "  let notion = new Client({ auth: notionApiKey });\n",
    "\n",
    "  let response = await notion.databases.query({\n",
    "    database_id: databaseId,\n",
    "    filter: { // https://developers.notion.com/reference/post-database-query-filter#date\n",
    "      property: 'Created time',\n",
    "      date: {date_filter},\n",
    "    }\n",
    "  });\n",
    "\n",
    "  if (save) {\n",
    "    // Add timestamp to the file name if appendTimestamp is true\n",
    "    if (appendTimestamp) {\n",
    "      const timestamp = getCurrentTimestamp();\n",
    "      jsonFileName = `${jsonFileName}_${timestamp}`;\n",
    "    }\n",
    "\n",
    "    // Save the response as a JSON file\n",
    "    await fs.writeFile(`${jsonFileName}.json`, JSON.stringify(response, null, 2));\n",
    "\n",
    "    console.log(`Response saved to ${jsonFileName}.json`);\n",
    "  }\n",
    "  return response\n",
    "}\n",
    "\n",
    "// Example usage:\n",
    "var myDatabaseId = databases['time_tracking'];\n",
    "var myJsonFileName = 'notion_time_tracking_1wk';\n",
    "\n",
    "// Call the function with appendTimestamp set to true\n",
    "var response = queryNotionAndSaveResponse(myDatabaseId, myJsonFileName, save=false, appendTimestamp=true);\n",
    "console.log(response);"
   ]
  },
  {
   "cell_type": "code",
   "execution_count": null,
   "id": "1169066e",
   "metadata": {},
   "outputs": [
    {
     "name": "stdout",
     "output_type": "stream",
     "text": [
      "2023-12-21_1646\n",
      "Promise { <pending> }\n"
     ]
    },
    {
     "name": "stderr",
     "output_type": "stream",
     "text": [
      "@notionhq/client warn: request fail {\n",
      "  code: 'validation_error',\n",
      "  message: 'body failed validation. Fix one:\\n' +\n",
      "    'body.filter.or should be defined, instead was `undefined`.\\n' +\n",
      "    'body.filter.and should be defined, instead was `undefined`.\\n' +\n",
      "    'body.filter.title should be defined, instead was `undefined`.\\n' +\n",
      "    'body.filter.rich_text should be defined, instead was `undefined`.\\n' +\n",
      "    'body.filter.number should be defined, instead was `undefined`.\\n' +\n",
      "    'body.filter.checkbox should be defined, instead was `undefined`.\\n' +\n",
      "    'body.filter.select should be defined, instead was `undefined`.\\n' +\n",
      "    'body.filter.multi_select should be defined, instead was `undefined`.\\n' +\n",
      "    'body.filter.status should be defined, instead was `undefined`.\\n' +\n",
      "    'body.filter.date should be an object, instead was `false`.\\n' +\n",
      "    'body.filter.people should be defined, instead was `undefined`.\\n' +\n",
      "    'body.filter.files should be defined, instead was `undefined`.\\n' +\n",
      "    'body.filter.url should be defined, instead was `undefined`.\\n' +\n",
      "    'body.filter.email should be defined, instead was `undefined`.\\n' +\n",
      "    'body.filter.phone_number should be defined, instead was `undefined`.\\n' +\n",
      "    'body.filter.relation should be defined, instead was `undefined`.\\n' +\n",
      "    'body.filter.created_by should be defined, instead was `undefined`.\\n' +\n",
      "    'body.filter.created_time should be defined, instead was `undefined`.\\n' +\n",
      "    'body.filter.last_edited_by should be defined, instead was `undefined`.\\n' +\n",
      "    'body.filter.last_edited_time should be defined, instead was `undefined`.\\n' +\n",
      "    'body.filter.formula should be defined, instead was `undefined`.\\n' +\n",
      "    'body.filter.unique_id should be defined, instead was `undefined`.\\n' +\n",
      "    'body.filter.rollup should be defined, instead was `undefined`.'\n",
      "}\n",
      "APIResponseError: body failed validation. Fix one:\n",
      "body.filter.or should be defined, instead was `undefined`.\n",
      "body.filter.and should be defined, instead was `undefined`.\n",
      "body.filter.title should be defined, instead was `undefined`.\n",
      "body.filter.rich_text should be defined, instead was `undefined`.\n",
      "body.filter.number should be defined, instead was `undefined`.\n",
      "body.filter.checkbox should be defined, instead was `undefined`.\n",
      "body.filter.select should be defined, instead was `undefined`.\n",
      "body.filter.multi_select should be defined, instead was `undefined`.\n",
      "body.filter.status should be defined, instead was `undefined`.\n",
      "body.filter.date should be an object, instead was `false`.\n",
      "body.filter.people should be defined, instead was `undefined`.\n",
      "body.filter.files should be defined, instead was `undefined`.\n",
      "body.filter.url should be defined, instead was `undefined`.\n",
      "body.filter.email should be defined, instead was `undefined`.\n",
      "body.filter.phone_number should be defined, instead was `undefined`.\n",
      "body.filter.relation should be defined, instead was `undefined`.\n",
      "body.filter.created_by should be defined, instead was `undefined`.\n",
      "body.filter.created_time should be defined, instead was `undefined`.\n",
      "body.filter.last_edited_by should be defined, instead was `undefined`.\n",
      "body.filter.last_edited_time should be defined, instead was `undefined`.\n",
      "body.filter.formula should be defined, instead was `undefined`.\n",
      "body.filter.unique_id should be defined, instead was `undefined`.\n",
      "body.filter.rollup should be defined, instead was `undefined`.\n",
      "    at buildRequestError (/home/silvhua/repositories/notion/node_modules/@notionhq/client/build/src/errors.js:162:16)\n",
      "    at Client.request (/home/silvhua/repositories/notion/node_modules/@notionhq/client/build/src/Client.js:378:54)\n",
      "    at processTicksAndRejections (node:internal/process/task_queues:96:5)\n",
      "    at async queryNotionAndSaveResponse (evalmachine.<anonymous>:24:18)"
     ]
    }
   ],
   "source": [
    "var { Client } = require('@notionhq/client');\n",
    "// var fs = require('fs').promises;\n",
    "\n",
    "function getCurrentTimestamp() {\n",
    "  var date = new Date().toLocaleString(\"en-US\", { timeZone: \"America/Los_Angeles\" });\n",
    "  var dateTime = new Date(date);\n",
    "  var year = dateTime.getFullYear();\n",
    "  var month = String(dateTime.getMonth() + 1).padStart(2, \"0\");\n",
    "  var day = String(dateTime.getDate()).padStart(2, \"0\");\n",
    "  var hours = String(dateTime.getHours()).padStart(2, \"0\");\n",
    "  var minutes = String(dateTime.getMinutes()).padStart(2, \"0\");\n",
    "  var formattedTimestamp = year + \"-\" + month + \"-\" + day + \"_\" + hours + minutes;\n",
    "  return formattedTimestamp;\n",
    "}\n",
    "\n",
    "console.log(getCurrentTimestamp());\n",
    "\n",
    "async function queryNotionAndSaveResponse(\n",
    "  databaseId, jsonFileName, date_filter={past_week: {}}, save=true, appendTimestamp = false\n",
    "  ) {\n",
    "  let notionApiKey = process.env.notion_secret;\n",
    "  let notion = new Client({ auth: notionApiKey });\n",
    "\n",
    "  let response = await notion.databases.query({\n",
    "    database_id: databaseId,\n",
    "    filter: { // https://developers.notion.com/reference/post-database-query-filter#date\n",
    "      property: 'Created time',\n",
    "      date: date_filter,\n",
    "    }\n",
    "  });\n",
    "\n",
    "  if (save) {\n",
    "    // Add timestamp to the file name if appendTimestamp is true\n",
    "    if (appendTimestamp) {\n",
    "      const timestamp = getCurrentTimestamp();\n",
    "      jsonFileName = `${jsonFileName}_${timestamp}`;\n",
    "    }\n",
    "\n",
    "    // Save the response as a JSON file\n",
    "    await fs.writeFile(`${jsonFileName}.json`, JSON.stringify(response, null, 2));\n",
    "\n",
    "    console.log(`Response saved to ${jsonFileName}.json`);\n",
    "  }\n",
    "  return response\n",
    "}\n",
    "\n",
    "// Example usage:\n",
    "var myDatabaseId = databases['time_tracking'];\n",
    "var myJsonFileName = 'notion_time_tracking_1wk';\n",
    "\n",
    "// Call the function with appendTimestamp set to true\n",
    "var response = queryNotionAndSaveResponse(myDatabaseId, myJsonFileName, save=false, appendTimestamp=true);\n",
    "console.log(response);"
   ]
  },
  {
   "cell_type": "code",
   "execution_count": 30,
   "id": "e3961361",
   "metadata": {},
   "outputs": [
    {
     "name": "stdout",
     "output_type": "stream",
     "text": [
      "2023-12-21_1648\n",
      "Promise { <pending> }\n"
     ]
    }
   ],
   "source": [
    "var { Client } = require('@notionhq/client');\n",
    "// var fs = require('fs').promises;\n",
    "\n",
    "function getCurrentTimestamp() {\n",
    "  var date = new Date().toLocaleString(\"en-US\", { timeZone: \"America/Los_Angeles\" });\n",
    "  var dateTime = new Date(date);\n",
    "  var year = dateTime.getFullYear();\n",
    "  var month = String(dateTime.getMonth() + 1).padStart(2, \"0\");\n",
    "  var day = String(dateTime.getDate()).padStart(2, \"0\");\n",
    "  var hours = String(dateTime.getHours()).padStart(2, \"0\");\n",
    "  var minutes = String(dateTime.getMinutes()).padStart(2, \"0\");\n",
    "  var formattedTimestamp = year + \"-\" + month + \"-\" + day + \"_\" + hours + minutes;\n",
    "  return formattedTimestamp;\n",
    "}\n",
    "\n",
    "console.log(getCurrentTimestamp());\n",
    "\n",
    "async function queryNotionAndSaveResponse(databaseId, jsonFileName, appendTimestamp = false) {\n",
    "  let notionApiKey = process.env.notion_secret;\n",
    "  let notion = new Client({ auth: notionApiKey });\n",
    "\n",
    "  let response = await notion.databases.query({\n",
    "    database_id: databaseId,\n",
    "    filter: {\n",
    "      property: 'Created time',\n",
    "      date: {\n",
    "        past_week: {},\n",
    "      },\n",
    "    }\n",
    "  });\n",
    "\n",
    "\n",
    "  if (save) {\n",
    "    // Add timestamp to the file name if appendTimestamp is true\n",
    "    if (appendTimestamp) {\n",
    "      const timestamp = getCurrentTimestamp();\n",
    "      jsonFileName = `${jsonFileName}_${timestamp}`;\n",
    "    }\n",
    "\n",
    "    // Save the response as a JSON file\n",
    "    await fs.writeFile(`${jsonFileName}.json`, JSON.stringify(response, null, 2));\n",
    "\n",
    "    console.log(`Response saved to ${jsonFileName}.json`);\n",
    "  }\n",
    "  return response\n",
    "}\n",
    "\n",
    "// Example usage:\n",
    "var myDatabaseId = databases['time_tracking'];\n",
    "var myJsonFileName = 'notion_time_tracking_1wk';\n",
    "\n",
    "// Call the function with appendTimestamp set to true\n",
    "var response = queryNotionAndSaveResponse(myDatabaseId, myJsonFileName, save=false, appendTimestamp=true);\n",
    "console.log(response);"
   ]
  },
  {
   "cell_type": "markdown",
   "id": "80ead1ba",
   "metadata": {},
   "source": [
    "# Iteration 4 get notion data"
   ]
  },
  {
   "cell_type": "code",
   "execution_count": 5,
   "id": "2852b62a",
   "metadata": {},
   "outputs": [
    {
     "name": "stdout",
     "output_type": "stream",
     "text": [
      "2023-12-21_1656\n",
      "Promise { <pending> }\n"
     ]
    },
    {
     "name": "stdout",
     "output_type": "stream",
     "text": [
      "Response saved to notion_time_tracking_1wk_2023-12-21_1656.json\n"
     ]
    },
    {
     "name": "stderr",
     "output_type": "stream",
     "text": [
      "@notionhq/client warn: request fail {\n",
      "  code: 'notionhq_client_request_timeout',\n",
      "  message: 'Request to Notion API has timed out'\n",
      "}\n",
      "RequestTimeoutError: Request to Notion API has timed out\n",
      "    at Timeout._onTimeout (/home/silvhua/repositories/notion/node_modules/@notionhq/client/build/src/errors.js:69:24)\n",
      "    at listOnTimeout (node:internal/timers:559:17)\n",
      "    at processTimers (node:internal/timers:502:7)"
     ]
    }
   ],
   "source": [
    "var { Client } = require('@notionhq/client');\n",
    "var fs = require('fs').promises;\n",
    "\n",
    "function getCurrentTimestamp() {\n",
    "  var date = new Date().toLocaleString(\"en-US\", { timeZone: \"America/Los_Angeles\" });\n",
    "  var dateTime = new Date(date);\n",
    "  var year = dateTime.getFullYear();\n",
    "  var month = String(dateTime.getMonth() + 1).padStart(2, \"0\");\n",
    "  var day = String(dateTime.getDate()).padStart(2, \"0\");\n",
    "  var hours = String(dateTime.getHours()).padStart(2, \"0\");\n",
    "  var minutes = String(dateTime.getMinutes()).padStart(2, \"0\");\n",
    "  var formattedTimestamp = year + \"-\" + month + \"-\" + day + \"_\" + hours + minutes;\n",
    "  return formattedTimestamp;\n",
    "}\n",
    "\n",
    "console.log(getCurrentTimestamp());\n",
    "\n",
    "async function queryNotionAndSaveResponse(databaseId, jsonFileName, appendTimestamp = false) {\n",
    "  let notionApiKey = process.env.notion_secret;\n",
    "  let notion = new Client({ auth: notionApiKey });\n",
    "\n",
    "  let response = await notion.databases.query({\n",
    "    database_id: databaseId,\n",
    "    filter: {\n",
    "      property: 'Created time',\n",
    "      date: {\n",
    "        past_week: {},\n",
    "      },\n",
    "    }\n",
    "  });\n",
    "\n",
    "\n",
    "  if (save) {\n",
    "    // Add timestamp to the file name if appendTimestamp is true\n",
    "    if (appendTimestamp) {\n",
    "      const timestamp = getCurrentTimestamp();\n",
    "      jsonFileName = `${jsonFileName}_${timestamp}`;\n",
    "    }\n",
    "\n",
    "    // Save the response as a JSON file\n",
    "    await fs.writeFile(`${jsonFileName}.json`, JSON.stringify(response, null, 2));\n",
    "\n",
    "    console.log(`Response saved to ${jsonFileName}.json`);\n",
    "  }\n",
    "  return response\n",
    "}\n",
    "\n",
    "// Example usage:\n",
    "var myDatabaseId = databases['time_tracking'];\n",
    "var myJsonFileName = 'notion_time_tracking_1wk';\n",
    "\n",
    "// Call the function with appendTimestamp set to true\n",
    "var response = queryNotionAndSaveResponse(myDatabaseId, myJsonFileName, save=true, appendTimestamp=true);\n",
    "console.log(response);"
   ]
  },
  {
   "cell_type": "code",
   "execution_count": 31,
   "id": "22c4dbf8",
   "metadata": {},
   "outputs": [
    {
     "name": "stdout",
     "output_type": "stream",
     "text": [
      "Promise {\n",
      "  {\n",
      "    object: 'list',\n",
      "    results: [\n",
      "      [Object], [Object], [Object], [Object], [Object],\n",
      "      [Object], [Object], [Object], [Object], [Object],\n",
      "      [Object], [Object], [Object], [Object], [Object],\n",
      "      [Object], [Object], [Object], [Object], [Object],\n",
      "      [Object], [Object], [Object], [Object], [Object],\n",
      "      [Object], [Object], [Object], [Object], [Object],\n",
      "      [Object], [Object], [Object], [Object], [Object],\n",
      "      [Object], [Object], [Object], [Object], [Object],\n",
      "      [Object], [Object], [Object], [Object], [Object],\n",
      "      [Object], [Object], [Object], [Object], [Object],\n",
      "      [Object], [Object], [Object], [Object], [Object],\n",
      "      [Object], [Object], [Object], [Object], [Object],\n",
      "      [Object], [Object], [Object], [Object], [Object],\n",
      "      [Object], [Object], [Object], [Object], [Object],\n",
      "      [Object], [Object], [Object], [Object], [Object],\n",
      "      [Object], [Object], [Object], [Object], [Object],\n",
      "      [Object], [Object], [Object], [Object]\n",
      "    ],\n",
      "    next_cursor: null,\n",
      "    has_more: false,\n",
      "    type: 'page_or_database',\n",
      "    page_or_database: {},\n",
      "    request_id: '86f569dd-a9d9-4853-b76f-d14d709067b2'\n",
      "  }\n",
      "}\n"
     ]
    }
   ],
   "source": [
    "console.log(response)"
   ]
  },
  {
   "cell_type": "markdown",
   "id": "0a6e87cf",
   "metadata": {},
   "source": [
    "# Iteration 5"
   ]
  },
  {
   "cell_type": "code",
   "execution_count": 3,
   "id": "aab58cf9",
   "metadata": {},
   "outputs": [
    {
     "name": "stdout",
     "output_type": "stream",
     "text": [
      "2023-12-21_1708\n",
      "Promise { <pending> }\n"
     ]
    },
    {
     "name": "stdout",
     "output_type": "stream",
     "text": [
      "Response saved to ../data/notion_time_tracking_1wk_2023-12-21_1708.json\n"
     ]
    }
   ],
   "source": [
    "var { Client } = require('@notionhq/client');\n",
    "var fs = require('fs').promises;\n",
    "var fs1 = require('fs');\n",
    "\n",
    "function loadJsonFile(filename, path = '../private') {\n",
    "  try {\n",
    "    const filePath = `${path}/${filename}`;\n",
    "    const jsonData = fs1.readFileSync(filePath, 'utf8');\n",
    "    const data = JSON.parse(jsonData);\n",
    "    return data;\n",
    "  } catch (error) {\n",
    "    console.error('Error loading JSON file:', error);\n",
    "    return null;\n",
    "  }\n",
    "}\n",
    "\n",
    "databases = loadJsonFile('databases.json');\n",
    "\n",
    "\n",
    "function getCurrentTimestamp() {\n",
    "  var date = new Date().toLocaleString(\"en-US\", { timeZone: \"America/Los_Angeles\" });\n",
    "  var dateTime = new Date(date);\n",
    "  var year = dateTime.getFullYear();\n",
    "  var month = String(dateTime.getMonth() + 1).padStart(2, \"0\");\n",
    "  var day = String(dateTime.getDate()).padStart(2, \"0\");\n",
    "  var hours = String(dateTime.getHours()).padStart(2, \"0\");\n",
    "  var minutes = String(dateTime.getMinutes()).padStart(2, \"0\");\n",
    "  var formattedTimestamp = year + \"-\" + month + \"-\" + day + \"_\" + hours + minutes;\n",
    "  return formattedTimestamp;\n",
    "}\n",
    "\n",
    "console.log(getCurrentTimestamp());\n",
    "\n",
    "async function queryNotionAndSaveResponse(databaseId, jsonFileName, appendTimestamp = false) {\n",
    "  let notionApiKey = process.env.notion_secret;\n",
    "  let notion = new Client({ auth: notionApiKey });\n",
    "\n",
    "  let response = await notion.databases.query({\n",
    "    database_id: databaseId,\n",
    "    filter: {\n",
    "      property: 'Created time',\n",
    "      date: {\n",
    "        past_week: {},\n",
    "      },\n",
    "    }\n",
    "  });\n",
    "\n",
    "\n",
    "  if (save) {\n",
    "    // Add timestamp to the file name if appendTimestamp is true\n",
    "    if (appendTimestamp) {\n",
    "      const timestamp = getCurrentTimestamp();\n",
    "      jsonFileName = `${jsonFileName}_${timestamp}`;\n",
    "    }\n",
    "\n",
    "    // Save the response as a JSON file\n",
    "    await fs.writeFile(`${jsonFileName}.json`, JSON.stringify(response[\"results\"], null, 2));\n",
    "\n",
    "    console.log(`Response saved to ${jsonFileName}.json`);\n",
    "  }\n",
    "  return response\n",
    "}\n",
    "\n",
    "// Example usage:\n",
    "var myDatabaseId = databases['time_tracking'];\n",
    "var myJsonFileName = '../data/notion_time_tracking_1wk';\n",
    "\n",
    "// Call the function with appendTimestamp set to true\n",
    "var response = queryNotionAndSaveResponse(myDatabaseId, myJsonFileName, save=true, appendTimestamp=true);\n",
    "console.log(response);"
   ]
  },
  {
   "cell_type": "markdown",
   "id": "f6fbc757",
   "metadata": {},
   "source": [
    "# Iteration 5.1"
   ]
  },
  {
   "cell_type": "code",
   "execution_count": 10,
   "id": "c7194cb8",
   "metadata": {},
   "outputs": [
    {
     "name": "stdout",
     "output_type": "stream",
     "text": [
      "2023-12-21_2220\n",
      "Promise { <pending> }\n"
     ]
    },
    {
     "name": "stdout",
     "output_type": "stream",
     "text": [
      "Response saved to ../data/notion_time_tracking_1wk_2023-12-21_2220.json\n"
     ]
    }
   ],
   "source": [
    "var { Client } = require('@notionhq/client');\n",
    "var fs = require('fs').promises;\n",
    "var fs1 = require('fs');\n",
    "\n",
    "function loadJsonFile(filename, path = '../private') {\n",
    "  try {\n",
    "    const filePath = `${path}/${filename}`;\n",
    "    const jsonData = fs1.readFileSync(filePath, 'utf8');\n",
    "    const data = JSON.parse(jsonData);\n",
    "    return data;\n",
    "  } catch (error) {\n",
    "    console.error('Error loading JSON file:', error);\n",
    "    return null;\n",
    "  }\n",
    "}\n",
    "\n",
    "databases = loadJsonFile('databases.json');\n",
    "\n",
    "\n",
    "function getCurrentTimestamp() {\n",
    "  var date = new Date().toLocaleString(\"en-US\", { timeZone: \"America/Los_Angeles\" });\n",
    "  var dateTime = new Date(date);\n",
    "  var year = dateTime.getFullYear();\n",
    "  var month = String(dateTime.getMonth() + 1).padStart(2, \"0\");\n",
    "  var day = String(dateTime.getDate()).padStart(2, \"0\");\n",
    "  var hours = String(dateTime.getHours()).padStart(2, \"0\");\n",
    "  var minutes = String(dateTime.getMinutes()).padStart(2, \"0\");\n",
    "  var formattedTimestamp = year + \"-\" + month + \"-\" + day + \"_\" + hours + minutes;\n",
    "  return formattedTimestamp;\n",
    "}\n",
    "\n",
    "console.log(getCurrentTimestamp());\n",
    "\n",
    "async function queryNotionAndSaveResponse(databaseId, date_filter={past_week: {},}, jsonFileName='notion_data', appendTimestamp = false) {\n",
    "  let notionApiKey = process.env.notion_secret;\n",
    "  let notion = new Client({ auth: notionApiKey });\n",
    "\n",
    "  let response = await notion.databases.query({\n",
    "    database_id: databaseId,\n",
    "    filter: {\n",
    "      property: 'Created time',\n",
    "      date: date_filter,\n",
    "    }\n",
    "  });\n",
    "\n",
    "\n",
    "  if (save) {\n",
    "    // Add timestamp to the file name if appendTimestamp is true\n",
    "    if (appendTimestamp) {\n",
    "      const timestamp = getCurrentTimestamp();\n",
    "      jsonFileName = `${jsonFileName}_${timestamp}`;\n",
    "    }\n",
    "\n",
    "    // Save the response as a JSON file\n",
    "    await fs.writeFile(`${jsonFileName}.json`, JSON.stringify(response[\"results\"], null, 2));\n",
    "\n",
    "    console.log(`Response saved to ${jsonFileName}.json`);\n",
    "  }\n",
    "  return response\n",
    "}\n",
    "\n",
    "// Example usage:\n",
    "var myDatabaseId = databases['time_tracking'];\n",
    "var myJsonFileName = '../data/notion_time_tracking_1wk';\n",
    "\n",
    "// Call the function with appendTimestamp set to true\n",
    "var response = queryNotionAndSaveResponse(\n",
    "  myDatabaseId, date_filter={past_week: {},}, jsonFileName=myJsonFileName, save=true, appendTimestamp=true);\n",
    "console.log(response);"
   ]
  },
  {
   "cell_type": "markdown",
   "id": "6db8945b",
   "metadata": {},
   "source": [
    "## 5.2"
   ]
  },
  {
   "cell_type": "code",
   "execution_count": 11,
   "id": "acc16f84",
   "metadata": {},
   "outputs": [
    {
     "name": "stdout",
     "output_type": "stream",
     "text": [
      "2023-12-21_2227\n"
     ]
    },
    {
     "name": "stdout",
     "output_type": "stream",
     "text": [
      "Response saved to notion_data_2023-12-21_2227.json\n"
     ]
    }
   ],
   "source": [
    "var { Client } = require('@notionhq/client');\n",
    "var fs = require('fs').promises;\n",
    "var fs1 = require('fs');\n",
    "\n",
    "function loadJsonFile(filename, path = '../private') {\n",
    "  try {\n",
    "    const filePath = `${path}/${filename}`;\n",
    "    const jsonData = fs1.readFileSync(filePath, 'utf8');\n",
    "    const data = JSON.parse(jsonData);\n",
    "    return data;\n",
    "  } catch (error) {\n",
    "    console.error('Error loading JSON file:', error);\n",
    "    return null;\n",
    "  }\n",
    "}\n",
    "\n",
    "databases = loadJsonFile('databases.json');\n",
    "\n",
    "\n",
    "function getCurrentTimestamp() {\n",
    "  var date = new Date().toLocaleString(\"en-US\", { timeZone: \"America/Los_Angeles\" });\n",
    "  var dateTime = new Date(date);\n",
    "  var year = dateTime.getFullYear();\n",
    "  var month = String(dateTime.getMonth() + 1).padStart(2, \"0\");\n",
    "  var day = String(dateTime.getDate()).padStart(2, \"0\");\n",
    "  var hours = String(dateTime.getHours()).padStart(2, \"0\");\n",
    "  var minutes = String(dateTime.getMinutes()).padStart(2, \"0\");\n",
    "  var formattedTimestamp = year + \"-\" + month + \"-\" + day + \"_\" + hours + minutes;\n",
    "  return formattedTimestamp;\n",
    "}\n",
    "\n",
    "console.log(getCurrentTimestamp());\n",
    "\n",
    "async function queryNotionAndSaveResponse(\n",
    "  databaseId, date_filter={past_week: {},}, jsonFileName='notion_data', save = true, appendTimestamp = true) {\n",
    "  let notionApiKey = process.env.notion_secret;\n",
    "  let notion = new Client({ auth: notionApiKey });\n",
    "\n",
    "  let response = await notion.databases.query({\n",
    "    database_id: databaseId,\n",
    "    filter: {\n",
    "      property: 'Created time',\n",
    "      date: date_filter,\n",
    "    }\n",
    "  });\n",
    "\n",
    "\n",
    "  if (save) {\n",
    "    // Add timestamp to the file name if appendTimestamp is true\n",
    "    if (appendTimestamp) {\n",
    "      const timestamp = getCurrentTimestamp();\n",
    "      jsonFileName = `${jsonFileName}_${timestamp}`;\n",
    "    }\n",
    "\n",
    "    // Save the response as a JSON file\n",
    "    await fs.writeFile(`${jsonFileName}.json`, JSON.stringify(response[\"results\"], null, 2));\n",
    "\n",
    "    console.log(`Response saved to ${jsonFileName}.json`);\n",
    "  }\n",
    "  return response\n",
    "}\n",
    "\n",
    "// Example usage:\n",
    "var myDatabaseId = databases['time_tracking'];\n",
    "var myJsonFileName = '../data/notion_time_tracking_1wk';\n",
    "\n",
    "// Call the function with appendTimestamp set to true\n",
    "var response = queryNotionAndSaveResponse(\n",
    "  myDatabaseId\n",
    "  );"
   ]
  },
  {
   "cell_type": "markdown",
   "id": "4870809a",
   "metadata": {},
   "source": [
    "## 5.3"
   ]
  },
  {
   "cell_type": "code",
   "execution_count": 1,
   "id": "efc3a3d9",
   "metadata": {},
   "outputs": [
    {
     "name": "stdout",
     "output_type": "stream",
     "text": [
      "Response saved to ../data/notion_time_tracking_1wk_2023-12-21_2240.json\n"
     ]
    }
   ],
   "source": [
    "var { Client } = require('@notionhq/client');\n",
    "var fs = require('fs').promises;\n",
    "\n",
    "\n",
    "\n",
    "function getCurrentTimestamp() {\n",
    "  var date = new Date().toLocaleString(\"en-US\", { timeZone: \"America/Los_Angeles\" });\n",
    "  var dateTime = new Date(date);\n",
    "  var year = dateTime.getFullYear();\n",
    "  var month = String(dateTime.getMonth() + 1).padStart(2, \"0\");\n",
    "  var day = String(dateTime.getDate()).padStart(2, \"0\");\n",
    "  var hours = String(dateTime.getHours()).padStart(2, \"0\");\n",
    "  var minutes = String(dateTime.getMinutes()).padStart(2, \"0\");\n",
    "  var formattedTimestamp = year + \"-\" + month + \"-\" + day + \"_\" + hours + minutes;\n",
    "  return formattedTimestamp;\n",
    "}\n",
    "\n",
    "\n",
    "async function queryNotionAndSaveResponse(\n",
    "  date_filter={past_week: {},}, jsonFileName='../data/notion_time_tracking_1wk', save = true, appendTimestamp = true) {\n",
    "  let notionApiKey = process.env.notion_secret;\n",
    "  let notion = new Client({ auth: notionApiKey });\n",
    "\n",
    "  let response = await notion.databases.query({\n",
    "    database_id: process.env.notion_database,\n",
    "    filter: {\n",
    "      property: 'Created time',\n",
    "      date: date_filter,\n",
    "    }\n",
    "  });\n",
    "\n",
    "\n",
    "  if (save) {\n",
    "    // Add timestamp to the file name if appendTimestamp is true\n",
    "    if (appendTimestamp) {\n",
    "      const timestamp = getCurrentTimestamp();\n",
    "      jsonFileName = `${jsonFileName}_${timestamp}`;\n",
    "    }\n",
    "\n",
    "    // Save the response as a JSON file\n",
    "    await fs.writeFile(`${jsonFileName}.json`, JSON.stringify(response[\"results\"], null, 2));\n",
    "\n",
    "    console.log(`Response saved to ${jsonFileName}.json`);\n",
    "  }\n",
    "  return response\n",
    "}\n",
    "\n",
    "\n",
    "\n",
    "var response = queryNotionAndSaveResponse();"
   ]
  },
  {
   "cell_type": "markdown",
   "id": "4925dfd7",
   "metadata": {},
   "source": [
    "## 5.4"
   ]
  },
  {
   "cell_type": "code",
   "execution_count": null,
   "id": "9ee0001f",
   "metadata": {},
   "outputs": [
    {
     "name": "stdout",
     "output_type": "stream",
     "text": [
      "Response saved to ../data/notion_time_tracking_1wk_2023-12-21_2240.json\n"
     ]
    }
   ],
   "source": [
    "var { Client } = require('@notionhq/client');\n",
    "var fs = require('fs').promises;\n",
    "\n",
    "\n",
    "\n",
    "function getCurrentTimestamp() {\n",
    "  var date = new Date().toLocaleString(\"en-US\", { timeZone: \"America/Los_Angeles\" });\n",
    "  var dateTime = new Date(date);\n",
    "  var year = dateTime.getFullYear();\n",
    "  var month = String(dateTime.getMonth() + 1).padStart(2, \"0\");\n",
    "  var day = String(dateTime.getDate()).padStart(2, \"0\");\n",
    "  var hours = String(dateTime.getHours()).padStart(2, \"0\");\n",
    "  var minutes = String(dateTime.getMinutes()).padStart(2, \"0\");\n",
    "  var formattedTimestamp = year + \"-\" + month + \"-\" + day + \"_\" + hours + minutes;\n",
    "  return formattedTimestamp;\n",
    "}\n",
    "\n",
    "\n",
    "async function queryNotionAndSaveResponse(\n",
    "  period='week', jsonFileName='../data/notion_time_tracking', save = true, appendTimestamp = true) {\n",
    "  let notionApiKey = process.env.notion_secret;\n",
    "  let notion = new Client({ auth: notionApiKey });\n",
    "\n",
    "  if (period == 'past_week') {\n",
    "    date_filter = {past_week: {}}\n",
    "  } else if (period == 'quarter') {\n",
    "    date_filter = {\n",
    "      and: [\n",
    "        {property: 'Created time', date: {on_or_after: getTimestamp(period, nMonths = 3)}},\n",
    "        {property: 'Created time', date: {before: getCurrentTimestamp()}}\n",
    "      ]\n",
    "    }\n",
    "  }\n",
    "\n",
    "  let response = await notion.databases.query({\n",
    "    database_id: process.env.notion_database,\n",
    "    filter: {\n",
    "      property: 'Created time',\n",
    "      date: date_filter,\n",
    "    }\n",
    "  });\n",
    "\n",
    "\n",
    "  if (save) {\n",
    "    // Add timestamp to the file name if appendTimestamp is true\n",
    "    if (appendTimestamp) {\n",
    "      const timestamp = getCurrentTimestamp();\n",
    "      jsonFileName = `${jsonFileName}_${timestamp}`;\n",
    "    }\n",
    "\n",
    "    // Save the response as a JSON file\n",
    "    await fs.writeFile(`${jsonFileName}.json`, JSON.stringify(response[\"results\"], null, 2));\n",
    "\n",
    "    console.log(`Response saved to ${jsonFileName}.json`);\n",
    "  }\n",
    "  return response\n",
    "}\n",
    "\n",
    "\n",
    "\n",
    "var response = queryNotionAndSaveResponse();"
   ]
  },
  {
   "cell_type": "markdown",
   "id": "b54a3df5",
   "metadata": {},
   "source": [
    "# `addTimeDelta` function"
   ]
  },
  {
   "cell_type": "code",
   "execution_count": 4,
   "id": "8b036820",
   "metadata": {},
   "outputs": [
    {
     "name": "stdout",
     "output_type": "stream",
     "text": [
      "2023-12-22T07:02:45.784Z\n"
     ]
    }
   ],
   "source": [
    "console.log(new Date().toISOString())"
   ]
  },
  {
   "cell_type": "code",
   "execution_count": 5,
   "id": "db2e7a1b",
   "metadata": {},
   "outputs": [
    {
     "name": "stdout",
     "output_type": "stream",
     "text": [
      "2023-12-29T07:03:59.092Z\n",
      "2024-03-22T06:03:59.092Z\n",
      "2024-01-05T07:03:59.092Z\n"
     ]
    }
   ],
   "source": [
    "function addTimeDelta(timestamp=new Date().toISOString(), period='week', nPeriod=1) {\n",
    "  const date = new Date(timestamp);\n",
    "\n",
    "  if (period === 'day') {\n",
    "    date.setDate(date.getDate() + nPeriod);\n",
    "  } else if (period === 'week') {\n",
    "    date.setDate(date.getDate() + nPeriod * 7);\n",
    "  } else if (period === 'month') {\n",
    "    date.setMonth(date.getMonth() + nPeriod);\n",
    "  }\n",
    "\n",
    "  return date.toISOString();\n",
    "}\n",
    "\n",
    "console.log(addTimeDelta())\n",
    "\n",
    "console.log(addTimeDelta(timestamp=new Date().toISOString(), period='month', nPeriod=3))\n",
    "console.log(addTimeDelta(timestamp=new Date().toISOString(), period='week', nPeriod=2))"
   ]
  },
  {
   "cell_type": "markdown",
   "id": "0738c1b6",
   "metadata": {},
   "source": [
    "# Iteration 6"
   ]
  },
  {
   "cell_type": "code",
   "execution_count": 22,
   "id": "c824f826",
   "metadata": {},
   "outputs": [
    {
     "name": "stdout",
     "output_type": "stream",
     "text": [
      "Response saved to ../data/notion_time_tracking_1m_2023-12-21_2335.json\n"
     ]
    }
   ],
   "source": [
    "var { Client } = require('@notionhq/client');\n",
    "var fs = require('fs').promises;\n",
    "\n",
    "function addTimeDelta(timestamp=new Date().toISOString(), period='week', nPeriod=1) {\n",
    "    const date = new Date(timestamp);\n",
    "  \n",
    "    if (period === 'day') {\n",
    "      date.setDate(date.getDate() + nPeriod);\n",
    "    } else if (period === 'week') {\n",
    "      date.setDate(date.getDate() + nPeriod * 7);\n",
    "    } else if (period === 'month') {\n",
    "      date.setMonth(date.getMonth() + nPeriod);\n",
    "    }\n",
    "  \n",
    "    return date.toISOString();\n",
    "  }\n",
    "\n",
    "function getCurrentTimestamp() {\n",
    "  var date = new Date().toLocaleString(\"en-US\", { timeZone: \"America/Los_Angeles\" });\n",
    "  var dateTime = new Date(date);\n",
    "  var year = dateTime.getFullYear();\n",
    "  var month = String(dateTime.getMonth() + 1).padStart(2, \"0\");\n",
    "  var day = String(dateTime.getDate()).padStart(2, \"0\");\n",
    "  var hours = String(dateTime.getHours()).padStart(2, \"0\");\n",
    "  var minutes = String(dateTime.getMinutes()).padStart(2, \"0\");\n",
    "  var formattedTimestamp = year + \"-\" + month + \"-\" + day + \"_\" + hours + minutes;\n",
    "  return formattedTimestamp;\n",
    "}\n",
    "function getTimestamp(option, nMonths = 1) {\n",
    "  const now = new Date();\n",
    "\n",
    "  if (option == 'week') {\n",
    "    const dayOfWeek = now.getDay();\n",
    "    const daysSinceLastMonday = (dayOfWeek + 6) % 7;\n",
    "    const startOfLastMonday = new Date(now.getFullYear(), now.getMonth(), now.getDate() - daysSinceLastMonday);\n",
    "    return startOfLastMonday.toISOString();\n",
    "  }\n",
    "\n",
    "  if (option == 'lastWeek') {\n",
    "    const mondayOfLastWeek = new Date(now.getFullYear(), now.getMonth(), now.getDate() - 7 - ((now.getDay() + 6) % 7));\n",
    "    return mondayOfLastWeek.toISOString();\n",
    "  }\n",
    "\n",
    "  // if (option == 'month') {\n",
    "  //   const startOfPreviousMonth = new Date(now.getFullYear(), now.getMonth() - 1, 1);\n",
    "  //   return startOfPreviousMonth.toISOString();\n",
    "  // }\n",
    "\n",
    "  if (option == 'month') {\n",
    "    const startOfNMonthsAgo = new Date(now.getFullYear(), now.getMonth() - nMonths, 1);\n",
    "    return startOfNMonthsAgo.toISOString();\n",
    "  }\n",
    "}\n",
    "\n",
    "async function queryNotionAndSaveResponse(\n",
    "  period='week', jsonFileName='../data/notion_time_tracking', save = true, appendTimestamp = true) {\n",
    "  let notionApiKey = process.env.notion_secret;\n",
    "  let notion = new Client({ auth: notionApiKey });\n",
    "\n",
    "  if (period == 'past_week') {\n",
    "    date_filter = {\n",
    "      property: 'Created time',\n",
    "      date: {past_week: {}},\n",
    "    };\n",
    "  } else if (period == 'quarter') {\n",
    "    let start = getTimestamp('month', nMonths = 3);\n",
    "    console.log(`Start date: ${start}. Period: ${period}`);\n",
    "    date_filter = {\n",
    "      and: [\n",
    "        {property: 'Created time', date: {on_or_after: start}},\n",
    "        {property: 'Created time', date: {before: addTimeDelta(start, period='month', nPeriod=3)}}\n",
    "      ]\n",
    "    };\n",
    "  } else if (period == 'month' || period == 'week') {\n",
    "      start = getTimestamp(period)\n",
    "      date_filter = {\n",
    "        and: [\n",
    "          {property: 'Created time', date: {on_or_after: start}},\n",
    "          {property: 'Created time', date: {before: addTimeDelta(start, period=period, nPeriod=1)}}\n",
    "        ]\n",
    "      };\n",
    "  };\n",
    "  \n",
    "\n",
    "  let response = await notion.databases.query({\n",
    "    database_id: process.env.notion_database,\n",
    "    filter: date_filter\n",
    "  });\n",
    "\n",
    "\n",
    "  if (save) {\n",
    "    // Add timestamp to the file name if appendTimestamp is true\n",
    "    if (appendTimestamp) {\n",
    "      const timestamp = getCurrentTimestamp();\n",
    "      jsonFileName = `${jsonFileName}_${timestamp}`;\n",
    "    }\n",
    "\n",
    "    // Save the response as a JSON file\n",
    "    await fs.writeFile(`${jsonFileName}.json`, JSON.stringify(response[\"results\"], null, 2));\n",
    "\n",
    "    console.log(`Response saved to ${jsonFileName}.json`);\n",
    "  }\n",
    "  return response\n",
    "}\n",
    "\n",
    "\n",
    "\n",
    "var response = queryNotionAndSaveResponse(\n",
    "  period='month',\n",
    "  jsonFileName='../data/notion_time_tracking_1m',\n",
    "  save=true);"
   ]
  },
  {
   "cell_type": "markdown",
   "id": "b4c7c2f3",
   "metadata": {},
   "source": [
    "## 6.1"
   ]
  },
  {
   "cell_type": "code",
   "execution_count": null,
   "id": "73de4990",
   "metadata": {},
   "outputs": [],
   "source": [
    "var { Client } = require('@notionhq/client');\n",
    "var fs = require('fs').promises;\n",
    "\n",
    "function addTimeDelta(timestamp=new Date().toISOString(), period='week', nPeriod=1) {\n",
    "    const date = new Date(timestamp);\n",
    "  \n",
    "    if (period === 'day') {\n",
    "      date.setDate(date.getDate() + nPeriod);\n",
    "    } else if (period === 'week') {\n",
    "      date.setDate(date.getDate() + nPeriod * 7);\n",
    "    } else if (period === 'month') {\n",
    "      date.setMonth(date.getMonth() + nPeriod);\n",
    "    }\n",
    "  \n",
    "    return date.toISOString();\n",
    "  }\n",
    "\n",
    "function getCurrentTimestamp() {\n",
    "  var date = new Date().toLocaleString(\"en-US\", { timeZone: \"America/Los_Angeles\" });\n",
    "  var dateTime = new Date(date);\n",
    "  var year = dateTime.getFullYear();\n",
    "  var month = String(dateTime.getMonth() + 1).padStart(2, \"0\");\n",
    "  var day = String(dateTime.getDate()).padStart(2, \"0\");\n",
    "  var hours = String(dateTime.getHours()).padStart(2, \"0\");\n",
    "  var minutes = String(dateTime.getMinutes()).padStart(2, \"0\");\n",
    "  var formattedTimestamp = year + \"-\" + month + \"-\" + day + \"_\" + hours + minutes;\n",
    "  return formattedTimestamp;\n",
    "}\n",
    "function getTimestamp(option, nMonths = 1) {\n",
    "  const now = new Date();\n",
    "\n",
    "  if (option == 'week') {\n",
    "    const dayOfWeek = now.getDay();\n",
    "    const daysSinceLastMonday = (dayOfWeek + 6) % 7;\n",
    "    const startOfLastMonday = new Date(now.getFullYear(), now.getMonth(), now.getDate() - daysSinceLastMonday);\n",
    "    return startOfLastMonday.toISOString();\n",
    "  }\n",
    "\n",
    "  if (option == 'lastWeek') {\n",
    "    const mondayOfLastWeek = new Date(now.getFullYear(), now.getMonth(), now.getDate() - 7 - ((now.getDay() + 6) % 7));\n",
    "    return mondayOfLastWeek.toISOString();\n",
    "  }\n",
    "\n",
    "  // if (option == 'month') {\n",
    "  //   const startOfPreviousMonth = new Date(now.getFullYear(), now.getMonth() - 1, 1);\n",
    "  //   return startOfPreviousMonth.toISOString();\n",
    "  // }\n",
    "\n",
    "  if (option == 'month') {\n",
    "    const startOfNMonthsAgo = new Date(now.getFullYear(), now.getMonth() - nMonths, 1);\n",
    "    return startOfNMonthsAgo.toISOString();\n",
    "  }\n",
    "}\n",
    "\n",
    "async function queryNotionAndSaveResponse(\n",
    "  period='week', jsonFileName='../data/notion_time_tracking', save = true, appendTimestamp = true) {\n",
    "  let notionApiKey = process.env.notion_secret;\n",
    "  let notion = new Client({ auth: notionApiKey });\n",
    "\n",
    "  if (period == 'past_week') {\n",
    "    date_filter = {\n",
    "      property: 'Created time',\n",
    "      date: {past_week: {}},\n",
    "    };\n",
    "  } else if (period == 'quarter') {\n",
    "    let start = getTimestamp('month', nMonths = 3);\n",
    "    console.log(`Start date: ${start}. Period: ${period}`);\n",
    "    date_filter = {\n",
    "      and: [\n",
    "        {property: 'Created time', date: {on_or_after: start}},\n",
    "        {property: 'Created time', date: {before: addTimeDelta(start, period='month', nPeriod=3)}}\n",
    "      ]\n",
    "    };\n",
    "  } else if (period == 'month' || period == 'week') {\n",
    "      start = getTimestamp(period)\n",
    "      date_filter = {\n",
    "        and: [\n",
    "          {property: 'Created time', date: {on_or_after: start}},\n",
    "          {property: 'Created time', date: {before: addTimeDelta(start, period=period, nPeriod=1)}}\n",
    "        ]\n",
    "      };\n",
    "  };\n",
    "  \n",
    "  let response = await notion.databases.query({\n",
    "    database_id: process.env.notion_database,\n",
    "    filter: date_filter\n",
    "  });\n",
    "\n",
    "\n",
    "  if (save) {\n",
    "    // Add timestamp to the file name if appendTimestamp is true\n",
    "    if (appendTimestamp) {\n",
    "      const timestamp = getCurrentTimestamp();\n",
    "      jsonFileName = `${jsonFileName}_${timestamp}`;\n",
    "    }\n",
    "\n",
    "    // Save the response as a JSON file\n",
    "    await fs.writeFile(`${jsonFileName}.json`, JSON.stringify(response, null, 2));\n",
    "\n",
    "    console.log(`Response saved to ${jsonFileName}.json`);\n",
    "  }\n",
    "  return response\n",
    "}\n",
    "\n",
    "\n",
    "\n",
    "var response = queryNotionAndSaveResponse(\n",
    "  period='month',\n",
    "  jsonFileName='../data/notion_time_tracking_1m',\n",
    "  save=true);"
   ]
  },
  {
   "cell_type": "markdown",
   "id": "9cddd08a",
   "metadata": {},
   "source": []
  }
 ],
 "metadata": {
  "kernelspec": {
   "display_name": "JavaScript (Node.js)",
   "language": "javascript",
   "name": "javascript"
  },
  "language_info": {
   "file_extension": ".js",
   "mimetype": "application/javascript",
   "name": "javascript",
   "version": "17.9.1"
  }
 },
 "nbformat": 4,
 "nbformat_minor": 5
}
