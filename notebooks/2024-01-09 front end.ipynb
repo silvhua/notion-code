{
 "cells": [
  {
   "attachments": {},
   "cell_type": "markdown",
   "metadata": {},
   "source": [
    "# Title\n",
    "[]()"
   ]
  },
  {
   "cell_type": "code",
   "execution_count": 6,
   "metadata": {},
   "outputs": [],
   "source": [
    "\n",
    "import sys\n",
    "sys.path.append(r\"/home/silvhua/custom_python\")\n",
    "sys.path.append(r\"/home/silvhua/repositories/notion/src\")\n",
    "from silvhua import *\n",
    "from notion_functions import *"
   ]
  },
  {
   "cell_type": "markdown",
   "metadata": {},
   "source": [
    "# Howto"
   ]
  },
  {
   "cell_type": "code",
   "execution_count": 1,
   "metadata": {},
   "outputs": [
    {
     "data": {
      "application/vnd.jupyter.widget-view+json": {
       "model_id": "a6366fa7988f4a42895660fc05693b2f",
       "version_major": 2,
       "version_minor": 0
      },
      "text/html": [
       "Cannot show widget. You probably want to rerun the code cell above (<i>Click in the code cell, and press Shift+Enter <kbd>⇧</kbd>+<kbd>↩</kbd></i>)."
      ],
      "text/plain": [
       "Cannot show ipywidgets in text"
      ]
     },
     "metadata": {},
     "output_type": "display_data"
    }
   ],
   "source": [
    "import solara\n",
    "\n",
    "@solara.component\n",
    "def Page():\n",
    "    with solara.Column():\n",
    "        solara.Title(\"I'm in the browser tab and the toolbar\")\n",
    "        with solara.Sidebar():\n",
    "            solara.Markdown(\"## I am in the sidebar\")\n",
    "            solara.SliderInt(label=\"Ideal for placing controls\")\n",
    "        solara.Info(\"I'm in the main content area, put your main content here\")\n",
    "        with solara.Card(\"Use solara.Columns([1, 2]) to create relatively sized columns\"):\n",
    "            with solara.Columns([1, 2, 1]):\n",
    "                solara.Success(\"I'm in the first column\")\n",
    "                solara.Warning(\"I'm in the second column, I am twice as wide\")\n",
    "                solara.Info(\"I am like the first column\")\n",
    "                solara.Info(\"test\")\n",
    "\n",
    "        with solara.Card(\"Use solara.Column() to create a full width column\"):\n",
    "            with solara.Column():\n",
    "                solara.Success(\"I'm first in this full with column\")\n",
    "                solara.Warning(\"I'm second in this full with column\")\n",
    "                solara.Error(\"I'm third in this full with column\")\n",
    "\n",
    "        with solara.Card(\"Use solara.ColumnsResponsive(6, large=4) to response to screen size\"):\n",
    "            n_cards = 6\n",
    "            with solara.ColumnsResponsive(n_cards, large=4):\n",
    "                for i in range(n_cards):\n",
    "                    solara.Info(\"two per column on small screens, three per column on large screens\")\n",
    "\n",
    "Page()"
   ]
  },
  {
   "cell_type": "markdown",
   "metadata": {},
   "source": [
    "## Multi page with single script"
   ]
  },
  {
   "cell_type": "code",
   "execution_count": 9,
   "metadata": {},
   "outputs": [
    {
     "data": {
      "application/vnd.jupyter.widget-view+json": {
       "model_id": "431de182667a43229d56aad9df205178",
       "version_major": 2,
       "version_minor": 0
      },
      "text/html": [
       "Cannot show widget. You probably want to rerun the code cell above (<i>Click in the code cell, and press Shift+Enter <kbd>⇧</kbd>+<kbd>↩</kbd></i>)."
      ],
      "text/plain": [
       "Cannot show ipywidgets in text"
      ]
     },
     "metadata": {},
     "output_type": "display_data"
    }
   ],
   "source": [
    "import solara\n",
    "\n",
    "\n",
    "@solara.component\n",
    "def Home():\n",
    "    solara.Markdown(\"Home\")\n",
    "\n",
    "\n",
    "@solara.component\n",
    "def About():\n",
    "    solara.Markdown(\"About\")\n",
    "\n",
    "\n",
    "routes = [\n",
    "    solara.Route(path=\"/\", component=Home, label=\"home\"),\n",
    "    solara.Route(path=\"about\", component=About, label=\"about\"),\n",
    "]\n",
    "Home()"
   ]
  },
  {
   "cell_type": "markdown",
   "metadata": {},
   "source": [
    "## Multi page with dynamic pages"
   ]
  },
  {
   "cell_type": "code",
   "execution_count": 4,
   "metadata": {},
   "outputs": [
    {
     "data": {
      "application/vnd.jupyter.widget-view+json": {
       "model_id": "6b8872363f7f47e182690fb4aad1d8bf",
       "version_major": 2,
       "version_minor": 0
      },
      "text/html": [
       "Cannot show widget. You probably want to rerun the code cell above (<i>Click in the code cell, and press Shift+Enter <kbd>⇧</kbd>+<kbd>↩</kbd></i>)."
      ],
      "text/plain": [
       "Cannot show ipywidgets in text"
      ]
     },
     "metadata": {},
     "output_type": "display_data"
    }
   ],
   "source": [
    "@solara.component\n",
    "def Page(name: str = \"foo\"):\n",
    "    subpages = [\"foo\", \"bar\", \"solara\", \"react-ipywidgets\"]\n",
    "    solara.Markdown(f\"You are at: {name}\")\n",
    "    # bunch of buttons which navigate to our dynamic route\n",
    "    with solara.Row():\n",
    "        for subpage in subpages:\n",
    "            with solara.Link(subpage):\n",
    "                solara.Button(label=f\"Go to: {subpage}\")\n",
    "\n",
    "Page()"
   ]
  },
  {
   "cell_type": "markdown",
   "metadata": {},
   "source": [
    "# File naming"
   ]
  },
  {
   "cell_type": "code",
   "execution_count": 5,
   "metadata": {},
   "outputs": [
    {
     "data": {
      "text/plain": [
       "2"
      ]
     },
     "execution_count": 5,
     "metadata": {},
     "output_type": "execute_result"
    }
   ],
   "source": [
    "import os\n",
    "\n",
    "path = '../src/OIF'\n",
    "len([file for file in os.listdir(path) if os.path.isfile(os.path.join(path, file))])\n",
    "\n",
    "\n"
   ]
  },
  {
   "cell_type": "code",
   "execution_count": 4,
   "metadata": {},
   "outputs": [
    {
     "data": {
      "text/plain": [
       "'OIF_2024-01-30.py'"
      ]
     },
     "execution_count": 4,
     "metadata": {},
     "output_type": "execute_result"
    }
   ],
   "source": [
    "import re\n",
    "filename = '999_OIF_2024-01-30.py'\n",
    "re.sub(r'\\d+_(.*)', r'\\1', filename)"
   ]
  },
  {
   "cell_type": "markdown",
   "metadata": {},
   "source": [
    "# Invoice components"
   ]
  },
  {
   "cell_type": "markdown",
   "metadata": {},
   "source": [
    "## Iteration 1"
   ]
  },
  {
   "cell_type": "code",
   "execution_count": 6,
   "metadata": {},
   "outputs": [],
   "source": [
    "import sys\n",
    "sys.path.append(r\"/home/silvhua/repositories/notion/src\")\n",
    "sys.path.append(r\"/home/silvhua/custom_python\")\n",
    "import solara\n",
    "from silvhua import load_txt\n",
    "\n",
    "address_filepath = '/home/silvhua/repositories/notion/private'\n",
    "@solara.component\n",
    "def Load_Text(filename, path):\n",
    "    text = load_txt(filename, path)\n",
    "    print(text, type(text))\n",
    "    return text\n",
    "\n",
    "def Invoice_Header(client: str):\n",
    "    address = Load_Text('address.txt', address_filepath)\n",
    "    client_address = Load_Text(f'{client}_address.txt', address_filepath)\n",
    "    print(address, type(address))\n",
    "    # with solara.Column():\n",
    "    #     solara.Markdown('hello')\n",
    "        # solara.Markdown(f\"\"\"{address}\"\"\")\n",
    "        # solara.Markdown(client_address)"
   ]
  },
  {
   "cell_type": "code",
   "execution_count": 7,
   "metadata": {},
   "outputs": [
    {
     "name": "stdout",
     "output_type": "stream",
     "text": [
      "Load_Text('address.txt', '/home/silvhua/repositories/notion/private') <class 'reacton.core.Element'>\n"
     ]
    }
   ],
   "source": [
    "Invoice_Header('OIF')"
   ]
  },
  {
   "cell_type": "code",
   "execution_count": 8,
   "metadata": {},
   "outputs": [
    {
     "name": "stdout",
     "output_type": "stream",
     "text": [
      "Silvia Hua\n",
      "GST# 816632178RT0001\n",
      "5093 St Margarets St\n",
      "Vancouver, BC\n",
      "V5R 3H4\n",
      "Canada <class 'str'>\n"
     ]
    },
    {
     "ename": "TypeError",
     "evalue": "Expected element, not Silvia Hua\nGST# 816632178RT0001\n5093 St Margarets St\nVancouver, BC\nV5R 3H4\nCanada",
     "output_type": "error",
     "traceback": [
      "\u001b[0;31m---------------------------------------------------------------------------\u001b[0m",
      "\u001b[0;31mTypeError\u001b[0m                                 Traceback (most recent call last)",
      "File \u001b[0;32m~/notion/lib/python3.10/site-packages/IPython/core/formatters.py:922\u001b[0m, in \u001b[0;36mIPythonDisplayFormatter.__call__\u001b[0;34m(self, obj)\u001b[0m\n\u001b[1;32m    920\u001b[0m method \u001b[38;5;241m=\u001b[39m get_real_method(obj, \u001b[38;5;28mself\u001b[39m\u001b[38;5;241m.\u001b[39mprint_method)\n\u001b[1;32m    921\u001b[0m \u001b[38;5;28;01mif\u001b[39;00m method \u001b[38;5;129;01mis\u001b[39;00m \u001b[38;5;129;01mnot\u001b[39;00m \u001b[38;5;28;01mNone\u001b[39;00m:\n\u001b[0;32m--> 922\u001b[0m     \u001b[43mmethod\u001b[49m\u001b[43m(\u001b[49m\u001b[43m)\u001b[49m\n\u001b[1;32m    923\u001b[0m     \u001b[38;5;28;01mreturn\u001b[39;00m \u001b[38;5;28;01mTrue\u001b[39;00m\n",
      "File \u001b[0;32m~/notion/lib/python3.10/site-packages/reacton/core.py:332\u001b[0m, in \u001b[0;36mElement._ipython_display_\u001b[0;34m(self, **kwargs)\u001b[0m\n\u001b[1;32m    331\u001b[0m \u001b[38;5;28;01mdef\u001b[39;00m \u001b[38;5;21m_ipython_display_\u001b[39m(\u001b[38;5;28mself\u001b[39m, \u001b[38;5;241m*\u001b[39m\u001b[38;5;241m*\u001b[39mkwargs):\n\u001b[0;32m--> 332\u001b[0m     \u001b[43mdisplay\u001b[49m\u001b[43m(\u001b[49m\u001b[38;5;28;43mself\u001b[39;49m\u001b[43m,\u001b[49m\u001b[43m \u001b[49m\u001b[38;5;28;43mself\u001b[39;49m\u001b[38;5;241;43m.\u001b[39;49m\u001b[43mmime_bundle\u001b[49m\u001b[43m)\u001b[49m\n",
      "File \u001b[0;32m~/notion/lib/python3.10/site-packages/reacton/core.py:2203\u001b[0m, in \u001b[0;36mdisplay\u001b[0;34m(el, mime_bundle)\u001b[0m\n\u001b[1;32m   2201\u001b[0m box \u001b[38;5;241m=\u001b[39m widgets\u001b[38;5;241m.\u001b[39mVBox(_view_count\u001b[38;5;241m=\u001b[39m\u001b[38;5;241m0\u001b[39m)\n\u001b[1;32m   2202\u001b[0m el \u001b[38;5;241m=\u001b[39m _wrap(el, jupyter_decorator_components)\n\u001b[0;32m-> 2203\u001b[0m widget, rc \u001b[38;5;241m=\u001b[39m \u001b[43mrender\u001b[49m\u001b[43m(\u001b[49m\u001b[43mel\u001b[49m\u001b[43m,\u001b[49m\u001b[43m \u001b[49m\u001b[43mcontainer\u001b[49m\u001b[38;5;241;43m=\u001b[39;49m\u001b[43mbox\u001b[49m\u001b[43m)\u001b[49m\n\u001b[1;32m   2204\u001b[0m displayed \u001b[38;5;241m=\u001b[39m \u001b[38;5;28;01mFalse\u001b[39;00m\n\u001b[1;32m   2206\u001b[0m \u001b[38;5;28;01mdef\u001b[39;00m \u001b[38;5;21mcheck_view_count\u001b[39m(change):\n",
      "File \u001b[0;32m~/notion/lib/python3.10/site-packages/reacton/core.py:2163\u001b[0m, in \u001b[0;36mrender\u001b[0;34m(element, container, children_trait, handle_error, initial_state)\u001b[0m\n\u001b[1;32m   2161\u001b[0m container \u001b[38;5;241m=\u001b[39m container \u001b[38;5;129;01mor\u001b[39;00m widgets\u001b[38;5;241m.\u001b[39mVBox()\n\u001b[1;32m   2162\u001b[0m _rc \u001b[38;5;241m=\u001b[39m _RenderContext(element, container, children_trait\u001b[38;5;241m=\u001b[39mchildren_trait, handle_error\u001b[38;5;241m=\u001b[39mhandle_error, initial_state\u001b[38;5;241m=\u001b[39minitial_state)\n\u001b[0;32m-> 2163\u001b[0m \u001b[43m_rc\u001b[49m\u001b[38;5;241;43m.\u001b[39;49m\u001b[43mrender\u001b[49m\u001b[43m(\u001b[49m\u001b[43melement\u001b[49m\u001b[43m,\u001b[49m\u001b[43m \u001b[49m\u001b[43m_rc\u001b[49m\u001b[38;5;241;43m.\u001b[39;49m\u001b[43mcontainer\u001b[49m\u001b[43m)\u001b[49m\n\u001b[1;32m   2164\u001b[0m local\u001b[38;5;241m.\u001b[39mlast_rc \u001b[38;5;241m=\u001b[39m weakref\u001b[38;5;241m.\u001b[39mref(_rc)\n\u001b[1;32m   2165\u001b[0m \u001b[38;5;28;01mreturn\u001b[39;00m container, _rc\n",
      "File \u001b[0;32m~/notion/lib/python3.10/site-packages/reacton/core.py:1408\u001b[0m, in \u001b[0;36m_RenderContext.render\u001b[0;34m(***failed resolving arguments***)\u001b[0m\n\u001b[1;32m   1406\u001b[0m \u001b[38;5;28;01mtry\u001b[39;00m:\n\u001b[1;32m   1407\u001b[0m     \u001b[38;5;28mself\u001b[39m\u001b[38;5;241m.\u001b[39m_shared_elements_next \u001b[38;5;241m=\u001b[39m \u001b[38;5;28mset\u001b[39m()\n\u001b[0;32m-> 1408\u001b[0m     \u001b[38;5;28;43mself\u001b[39;49m\u001b[38;5;241;43m.\u001b[39;49m\u001b[43m_render\u001b[49m\u001b[43m(\u001b[49m\u001b[38;5;28;43mself\u001b[39;49m\u001b[38;5;241;43m.\u001b[39;49m\u001b[43melement\u001b[49m\u001b[43m,\u001b[49m\u001b[43m \u001b[49m\u001b[38;5;124;43m\"\u001b[39;49m\u001b[38;5;124;43m/\u001b[39;49m\u001b[38;5;124;43m\"\u001b[39;49m\u001b[43m,\u001b[49m\u001b[43m \u001b[49m\u001b[43mparent_key\u001b[49m\u001b[38;5;241;43m=\u001b[39;49m\u001b[43mROOT_KEY\u001b[49m\u001b[43m)\u001b[49m\n\u001b[1;32m   1409\u001b[0m     \u001b[38;5;28mself\u001b[39m\u001b[38;5;241m.\u001b[39mfirst_render \u001b[38;5;241m=\u001b[39m \u001b[38;5;28;01mFalse\u001b[39;00m\n\u001b[1;32m   1410\u001b[0m \u001b[38;5;28;01mexcept\u001b[39;00m \u001b[38;5;167;01mBaseException\u001b[39;00m:\n",
      "File \u001b[0;32m~/notion/lib/python3.10/site-packages/reacton/core.py:1710\u001b[0m, in \u001b[0;36m_RenderContext._render\u001b[0;34m(self, element, default_key, parent_key)\u001b[0m\n\u001b[1;32m   1708\u001b[0m     logger\u001b[38;5;241m.\u001b[39mdebug(\u001b[38;5;124m\"\u001b[39m\u001b[38;5;124mroot element: \u001b[39m\u001b[38;5;132;01m%r\u001b[39;00m\u001b[38;5;124m \u001b[39m\u001b[38;5;132;01m%x\u001b[39;00m\u001b[38;5;124m\"\u001b[39m, root_element, \u001b[38;5;28mid\u001b[39m(root_element))\n\u001b[1;32m   1709\u001b[0m     new_parent_key \u001b[38;5;241m=\u001b[39m join_key(parent_key, key)\n\u001b[0;32m-> 1710\u001b[0m     \u001b[38;5;28;43mself\u001b[39;49m\u001b[38;5;241;43m.\u001b[39;49m\u001b[43m_render\u001b[49m\u001b[43m(\u001b[49m\u001b[43mroot_element\u001b[49m\u001b[43m,\u001b[49m\u001b[43m \u001b[49m\u001b[38;5;124;43m\"\u001b[39;49m\u001b[38;5;124;43m/\u001b[39;49m\u001b[38;5;124;43m\"\u001b[39;49m\u001b[43m,\u001b[49m\u001b[43m \u001b[49m\u001b[43mparent_key\u001b[49m\u001b[38;5;241;43m=\u001b[39;49m\u001b[43mnew_parent_key\u001b[49m\u001b[43m)\u001b[49m  \u001b[38;5;66;03m# depth first\u001b[39;00m\n\u001b[1;32m   1711\u001b[0m     context\u001b[38;5;241m.\u001b[39mroot_element_next \u001b[38;5;241m=\u001b[39m root_element\n\u001b[1;32m   1712\u001b[0m \u001b[38;5;28;01melse\u001b[39;00m:\n",
      "File \u001b[0;32m~/notion/lib/python3.10/site-packages/reacton/core.py:1710\u001b[0m, in \u001b[0;36m_RenderContext._render\u001b[0;34m(self, element, default_key, parent_key)\u001b[0m\n\u001b[1;32m   1708\u001b[0m     logger\u001b[38;5;241m.\u001b[39mdebug(\u001b[38;5;124m\"\u001b[39m\u001b[38;5;124mroot element: \u001b[39m\u001b[38;5;132;01m%r\u001b[39;00m\u001b[38;5;124m \u001b[39m\u001b[38;5;132;01m%x\u001b[39;00m\u001b[38;5;124m\"\u001b[39m, root_element, \u001b[38;5;28mid\u001b[39m(root_element))\n\u001b[1;32m   1709\u001b[0m     new_parent_key \u001b[38;5;241m=\u001b[39m join_key(parent_key, key)\n\u001b[0;32m-> 1710\u001b[0m     \u001b[38;5;28;43mself\u001b[39;49m\u001b[38;5;241;43m.\u001b[39;49m\u001b[43m_render\u001b[49m\u001b[43m(\u001b[49m\u001b[43mroot_element\u001b[49m\u001b[43m,\u001b[49m\u001b[43m \u001b[49m\u001b[38;5;124;43m\"\u001b[39;49m\u001b[38;5;124;43m/\u001b[39;49m\u001b[38;5;124;43m\"\u001b[39;49m\u001b[43m,\u001b[49m\u001b[43m \u001b[49m\u001b[43mparent_key\u001b[49m\u001b[38;5;241;43m=\u001b[39;49m\u001b[43mnew_parent_key\u001b[49m\u001b[43m)\u001b[49m  \u001b[38;5;66;03m# depth first\u001b[39;00m\n\u001b[1;32m   1711\u001b[0m     context\u001b[38;5;241m.\u001b[39mroot_element_next \u001b[38;5;241m=\u001b[39m root_element\n\u001b[1;32m   1712\u001b[0m \u001b[38;5;28;01melse\u001b[39;00m:\n",
      "File \u001b[0;32m~/notion/lib/python3.10/site-packages/reacton/core.py:1593\u001b[0m, in \u001b[0;36m_RenderContext._render\u001b[0;34m(self, element, default_key, parent_key)\u001b[0m\n\u001b[1;32m   1591\u001b[0m \u001b[38;5;66;03m# only when we landed at a widget leaf, or a shared element, we need to render the children\u001b[39;00m\n\u001b[1;32m   1592\u001b[0m \u001b[38;5;28;01mif\u001b[39;00m \u001b[38;5;28misinstance\u001b[39m(el\u001b[38;5;241m.\u001b[39mcomponent, ComponentWidget) \u001b[38;5;129;01mor\u001b[39;00m el\u001b[38;5;241m.\u001b[39mis_shared:\n\u001b[0;32m-> 1593\u001b[0m     \u001b[38;5;28;43mself\u001b[39;49m\u001b[38;5;241;43m.\u001b[39;49m\u001b[43m_visit_children\u001b[49m\u001b[43m(\u001b[49m\u001b[43mel\u001b[49m\u001b[43m,\u001b[49m\u001b[43m \u001b[49m\u001b[43mkey\u001b[49m\u001b[43m,\u001b[49m\u001b[43m \u001b[49m\u001b[43mparent_key\u001b[49m\u001b[43m,\u001b[49m\u001b[43m \u001b[49m\u001b[38;5;28;43mself\u001b[39;49m\u001b[38;5;241;43m.\u001b[39;49m\u001b[43m_render\u001b[49m\u001b[43m)\u001b[49m\n\u001b[1;32m   1594\u001b[0m \u001b[38;5;28;01massert\u001b[39;00m \u001b[38;5;28mself\u001b[39m\u001b[38;5;241m.\u001b[39mcontext \u001b[38;5;129;01mis\u001b[39;00m context\n\u001b[1;32m   1595\u001b[0m logger\u001b[38;5;241m.\u001b[39mdebug(\u001b[38;5;124m\"\u001b[39m\u001b[38;5;124mRender: arguments done (children of \u001b[39m\u001b[38;5;132;01m%s\u001b[39;00m\u001b[38;5;124m,\u001b[39m\u001b[38;5;132;01m%s\u001b[39;00m\u001b[38;5;124m)\u001b[39m\u001b[38;5;124m\"\u001b[39m, parent_key, key)\n",
      "File \u001b[0;32m~/notion/lib/python3.10/site-packages/reacton/core.py:2128\u001b[0m, in \u001b[0;36m_RenderContext._visit_children\u001b[0;34m(self, el, default_key, parent_key, f)\u001b[0m\n\u001b[1;32m   2126\u001b[0m     key \u001b[38;5;241m=\u001b[39m default_key\n\u001b[1;32m   2127\u001b[0m \u001b[38;5;28;01massert\u001b[39;00m key \u001b[38;5;129;01mis\u001b[39;00m \u001b[38;5;129;01mnot\u001b[39;00m \u001b[38;5;28;01mNone\u001b[39;00m\n\u001b[0;32m-> 2128\u001b[0m \u001b[38;5;28;43mself\u001b[39;49m\u001b[38;5;241;43m.\u001b[39;49m\u001b[43m_visit_children_values\u001b[49m\u001b[43m(\u001b[49m\u001b[43mel\u001b[49m\u001b[38;5;241;43m.\u001b[39;49m\u001b[43mkwargs\u001b[49m\u001b[43m,\u001b[49m\u001b[43m \u001b[49m\u001b[43mkey\u001b[49m\u001b[43m,\u001b[49m\u001b[43m \u001b[49m\u001b[43mparent_key\u001b[49m\u001b[43m,\u001b[49m\u001b[43m \u001b[49m\u001b[43mf\u001b[49m\u001b[43m)\u001b[49m\n\u001b[1;32m   2129\u001b[0m \u001b[38;5;28mself\u001b[39m\u001b[38;5;241m.\u001b[39m_visit_children_values(el\u001b[38;5;241m.\u001b[39margs, key, parent_key, f)\n",
      "File \u001b[0;32m~/notion/lib/python3.10/site-packages/reacton/core.py:2141\u001b[0m, in \u001b[0;36m_RenderContext._visit_children_values\u001b[0;34m(self, value, key, parent_key, f)\u001b[0m\n\u001b[1;32m   2139\u001b[0m     \u001b[38;5;28;01mreturn\u001b[39;00m values\n\u001b[1;32m   2140\u001b[0m \u001b[38;5;28;01melif\u001b[39;00m \u001b[38;5;28misinstance\u001b[39m(value, \u001b[38;5;28mdict\u001b[39m):\n\u001b[0;32m-> 2141\u001b[0m     \u001b[38;5;28;01mreturn\u001b[39;00m {k: \u001b[38;5;28mself\u001b[39m\u001b[38;5;241m.\u001b[39m_visit_children_values(v, \u001b[38;5;124mf\u001b[39m\u001b[38;5;124m\"\u001b[39m\u001b[38;5;132;01m{\u001b[39;00mkey\u001b[38;5;132;01m}\u001b[39;00m\u001b[38;5;132;01m{\u001b[39;00mk\u001b[38;5;132;01m}\u001b[39;00m\u001b[38;5;124m/\u001b[39m\u001b[38;5;124m\"\u001b[39m, parent_key, f) \u001b[38;5;28;01mfor\u001b[39;00m k, v \u001b[38;5;129;01min\u001b[39;00m value\u001b[38;5;241m.\u001b[39mitems()}\n\u001b[1;32m   2142\u001b[0m \u001b[38;5;28;01melse\u001b[39;00m:\n\u001b[1;32m   2143\u001b[0m     \u001b[38;5;28;01mreturn\u001b[39;00m value\n",
      "File \u001b[0;32m~/notion/lib/python3.10/site-packages/reacton/core.py:2141\u001b[0m, in \u001b[0;36m<dictcomp>\u001b[0;34m(.0)\u001b[0m\n\u001b[1;32m   2139\u001b[0m     \u001b[38;5;28;01mreturn\u001b[39;00m values\n\u001b[1;32m   2140\u001b[0m \u001b[38;5;28;01melif\u001b[39;00m \u001b[38;5;28misinstance\u001b[39m(value, \u001b[38;5;28mdict\u001b[39m):\n\u001b[0;32m-> 2141\u001b[0m     \u001b[38;5;28;01mreturn\u001b[39;00m {k: \u001b[38;5;28;43mself\u001b[39;49m\u001b[38;5;241;43m.\u001b[39;49m\u001b[43m_visit_children_values\u001b[49m\u001b[43m(\u001b[49m\u001b[43mv\u001b[49m\u001b[43m,\u001b[49m\u001b[43m \u001b[49m\u001b[38;5;124;43mf\u001b[39;49m\u001b[38;5;124;43m\"\u001b[39;49m\u001b[38;5;132;43;01m{\u001b[39;49;00m\u001b[43mkey\u001b[49m\u001b[38;5;132;43;01m}\u001b[39;49;00m\u001b[38;5;132;43;01m{\u001b[39;49;00m\u001b[43mk\u001b[49m\u001b[38;5;132;43;01m}\u001b[39;49;00m\u001b[38;5;124;43m/\u001b[39;49m\u001b[38;5;124;43m\"\u001b[39;49m\u001b[43m,\u001b[49m\u001b[43m \u001b[49m\u001b[43mparent_key\u001b[49m\u001b[43m,\u001b[49m\u001b[43m \u001b[49m\u001b[43mf\u001b[49m\u001b[43m)\u001b[49m \u001b[38;5;28;01mfor\u001b[39;00m k, v \u001b[38;5;129;01min\u001b[39;00m value\u001b[38;5;241m.\u001b[39mitems()}\n\u001b[1;32m   2142\u001b[0m \u001b[38;5;28;01melse\u001b[39;00m:\n\u001b[1;32m   2143\u001b[0m     \u001b[38;5;28;01mreturn\u001b[39;00m value\n",
      "File \u001b[0;32m~/notion/lib/python3.10/site-packages/reacton/core.py:2136\u001b[0m, in \u001b[0;36m_RenderContext._visit_children_values\u001b[0;34m(self, value, key, parent_key, f)\u001b[0m\n\u001b[1;32m   2134\u001b[0m \u001b[38;5;28;01melif\u001b[39;00m \u001b[38;5;28misinstance\u001b[39m(value, (\u001b[38;5;28mlist\u001b[39m, \u001b[38;5;28mtuple\u001b[39m)):\n\u001b[1;32m   2135\u001b[0m     was_tuple \u001b[38;5;241m=\u001b[39m \u001b[38;5;28misinstance\u001b[39m(value, \u001b[38;5;28mtuple\u001b[39m)\n\u001b[0;32m-> 2136\u001b[0m     values \u001b[38;5;241m=\u001b[39m [\u001b[38;5;28mself\u001b[39m\u001b[38;5;241m.\u001b[39m_visit_children_values(v, \u001b[38;5;124mf\u001b[39m\u001b[38;5;124m\"\u001b[39m\u001b[38;5;132;01m{\u001b[39;00mkey\u001b[38;5;132;01m}\u001b[39;00m\u001b[38;5;132;01m{\u001b[39;00mindex\u001b[38;5;132;01m}\u001b[39;00m\u001b[38;5;124m/\u001b[39m\u001b[38;5;124m\"\u001b[39m, parent_key, f) \u001b[38;5;28;01mfor\u001b[39;00m index, v \u001b[38;5;129;01min\u001b[39;00m \u001b[38;5;28menumerate\u001b[39m(value)]\n\u001b[1;32m   2137\u001b[0m     \u001b[38;5;28;01mif\u001b[39;00m was_tuple:\n\u001b[1;32m   2138\u001b[0m         \u001b[38;5;28;01mreturn\u001b[39;00m \u001b[38;5;28mtuple\u001b[39m(values)\n",
      "File \u001b[0;32m~/notion/lib/python3.10/site-packages/reacton/core.py:2136\u001b[0m, in \u001b[0;36m<listcomp>\u001b[0;34m(.0)\u001b[0m\n\u001b[1;32m   2134\u001b[0m \u001b[38;5;28;01melif\u001b[39;00m \u001b[38;5;28misinstance\u001b[39m(value, (\u001b[38;5;28mlist\u001b[39m, \u001b[38;5;28mtuple\u001b[39m)):\n\u001b[1;32m   2135\u001b[0m     was_tuple \u001b[38;5;241m=\u001b[39m \u001b[38;5;28misinstance\u001b[39m(value, \u001b[38;5;28mtuple\u001b[39m)\n\u001b[0;32m-> 2136\u001b[0m     values \u001b[38;5;241m=\u001b[39m [\u001b[38;5;28;43mself\u001b[39;49m\u001b[38;5;241;43m.\u001b[39;49m\u001b[43m_visit_children_values\u001b[49m\u001b[43m(\u001b[49m\u001b[43mv\u001b[49m\u001b[43m,\u001b[49m\u001b[43m \u001b[49m\u001b[38;5;124;43mf\u001b[39;49m\u001b[38;5;124;43m\"\u001b[39;49m\u001b[38;5;132;43;01m{\u001b[39;49;00m\u001b[43mkey\u001b[49m\u001b[38;5;132;43;01m}\u001b[39;49;00m\u001b[38;5;132;43;01m{\u001b[39;49;00m\u001b[43mindex\u001b[49m\u001b[38;5;132;43;01m}\u001b[39;49;00m\u001b[38;5;124;43m/\u001b[39;49m\u001b[38;5;124;43m\"\u001b[39;49m\u001b[43m,\u001b[49m\u001b[43m \u001b[49m\u001b[43mparent_key\u001b[49m\u001b[43m,\u001b[49m\u001b[43m \u001b[49m\u001b[43mf\u001b[49m\u001b[43m)\u001b[49m \u001b[38;5;28;01mfor\u001b[39;00m index, v \u001b[38;5;129;01min\u001b[39;00m \u001b[38;5;28menumerate\u001b[39m(value)]\n\u001b[1;32m   2137\u001b[0m     \u001b[38;5;28;01mif\u001b[39;00m was_tuple:\n\u001b[1;32m   2138\u001b[0m         \u001b[38;5;28;01mreturn\u001b[39;00m \u001b[38;5;28mtuple\u001b[39m(values)\n",
      "File \u001b[0;32m~/notion/lib/python3.10/site-packages/reacton/core.py:2133\u001b[0m, in \u001b[0;36m_RenderContext._visit_children_values\u001b[0;34m(self, value, key, parent_key, f)\u001b[0m\n\u001b[1;32m   2131\u001b[0m \u001b[38;5;28;01mdef\u001b[39;00m \u001b[38;5;21m_visit_children_values\u001b[39m(\u001b[38;5;28mself\u001b[39m, value: Any, key: \u001b[38;5;28mstr\u001b[39m, parent_key: \u001b[38;5;28mstr\u001b[39m, f: Callable):\n\u001b[1;32m   2132\u001b[0m     \u001b[38;5;28;01mif\u001b[39;00m \u001b[38;5;28misinstance\u001b[39m(value, Element):\n\u001b[0;32m-> 2133\u001b[0m         \u001b[38;5;28;01mreturn\u001b[39;00m \u001b[43mf\u001b[49m\u001b[43m(\u001b[49m\u001b[43mvalue\u001b[49m\u001b[43m,\u001b[49m\u001b[43m \u001b[49m\u001b[43mkey\u001b[49m\u001b[43m,\u001b[49m\u001b[43m \u001b[49m\u001b[43mparent_key\u001b[49m\u001b[43m)\u001b[49m\n\u001b[1;32m   2134\u001b[0m     \u001b[38;5;28;01melif\u001b[39;00m \u001b[38;5;28misinstance\u001b[39m(value, (\u001b[38;5;28mlist\u001b[39m, \u001b[38;5;28mtuple\u001b[39m)):\n\u001b[1;32m   2135\u001b[0m         was_tuple \u001b[38;5;241m=\u001b[39m \u001b[38;5;28misinstance\u001b[39m(value, \u001b[38;5;28mtuple\u001b[39m)\n",
      "File \u001b[0;32m~/notion/lib/python3.10/site-packages/reacton/core.py:1593\u001b[0m, in \u001b[0;36m_RenderContext._render\u001b[0;34m(self, element, default_key, parent_key)\u001b[0m\n\u001b[1;32m   1591\u001b[0m \u001b[38;5;66;03m# only when we landed at a widget leaf, or a shared element, we need to render the children\u001b[39;00m\n\u001b[1;32m   1592\u001b[0m \u001b[38;5;28;01mif\u001b[39;00m \u001b[38;5;28misinstance\u001b[39m(el\u001b[38;5;241m.\u001b[39mcomponent, ComponentWidget) \u001b[38;5;129;01mor\u001b[39;00m el\u001b[38;5;241m.\u001b[39mis_shared:\n\u001b[0;32m-> 1593\u001b[0m     \u001b[38;5;28;43mself\u001b[39;49m\u001b[38;5;241;43m.\u001b[39;49m\u001b[43m_visit_children\u001b[49m\u001b[43m(\u001b[49m\u001b[43mel\u001b[49m\u001b[43m,\u001b[49m\u001b[43m \u001b[49m\u001b[43mkey\u001b[49m\u001b[43m,\u001b[49m\u001b[43m \u001b[49m\u001b[43mparent_key\u001b[49m\u001b[43m,\u001b[49m\u001b[43m \u001b[49m\u001b[38;5;28;43mself\u001b[39;49m\u001b[38;5;241;43m.\u001b[39;49m\u001b[43m_render\u001b[49m\u001b[43m)\u001b[49m\n\u001b[1;32m   1594\u001b[0m \u001b[38;5;28;01massert\u001b[39;00m \u001b[38;5;28mself\u001b[39m\u001b[38;5;241m.\u001b[39mcontext \u001b[38;5;129;01mis\u001b[39;00m context\n\u001b[1;32m   1595\u001b[0m logger\u001b[38;5;241m.\u001b[39mdebug(\u001b[38;5;124m\"\u001b[39m\u001b[38;5;124mRender: arguments done (children of \u001b[39m\u001b[38;5;132;01m%s\u001b[39;00m\u001b[38;5;124m,\u001b[39m\u001b[38;5;132;01m%s\u001b[39;00m\u001b[38;5;124m)\u001b[39m\u001b[38;5;124m\"\u001b[39m, parent_key, key)\n",
      "File \u001b[0;32m~/notion/lib/python3.10/site-packages/reacton/core.py:2128\u001b[0m, in \u001b[0;36m_RenderContext._visit_children\u001b[0;34m(self, el, default_key, parent_key, f)\u001b[0m\n\u001b[1;32m   2126\u001b[0m     key \u001b[38;5;241m=\u001b[39m default_key\n\u001b[1;32m   2127\u001b[0m \u001b[38;5;28;01massert\u001b[39;00m key \u001b[38;5;129;01mis\u001b[39;00m \u001b[38;5;129;01mnot\u001b[39;00m \u001b[38;5;28;01mNone\u001b[39;00m\n\u001b[0;32m-> 2128\u001b[0m \u001b[38;5;28;43mself\u001b[39;49m\u001b[38;5;241;43m.\u001b[39;49m\u001b[43m_visit_children_values\u001b[49m\u001b[43m(\u001b[49m\u001b[43mel\u001b[49m\u001b[38;5;241;43m.\u001b[39;49m\u001b[43mkwargs\u001b[49m\u001b[43m,\u001b[49m\u001b[43m \u001b[49m\u001b[43mkey\u001b[49m\u001b[43m,\u001b[49m\u001b[43m \u001b[49m\u001b[43mparent_key\u001b[49m\u001b[43m,\u001b[49m\u001b[43m \u001b[49m\u001b[43mf\u001b[49m\u001b[43m)\u001b[49m\n\u001b[1;32m   2129\u001b[0m \u001b[38;5;28mself\u001b[39m\u001b[38;5;241m.\u001b[39m_visit_children_values(el\u001b[38;5;241m.\u001b[39margs, key, parent_key, f)\n",
      "File \u001b[0;32m~/notion/lib/python3.10/site-packages/reacton/core.py:2141\u001b[0m, in \u001b[0;36m_RenderContext._visit_children_values\u001b[0;34m(self, value, key, parent_key, f)\u001b[0m\n\u001b[1;32m   2139\u001b[0m     \u001b[38;5;28;01mreturn\u001b[39;00m values\n\u001b[1;32m   2140\u001b[0m \u001b[38;5;28;01melif\u001b[39;00m \u001b[38;5;28misinstance\u001b[39m(value, \u001b[38;5;28mdict\u001b[39m):\n\u001b[0;32m-> 2141\u001b[0m     \u001b[38;5;28;01mreturn\u001b[39;00m {k: \u001b[38;5;28mself\u001b[39m\u001b[38;5;241m.\u001b[39m_visit_children_values(v, \u001b[38;5;124mf\u001b[39m\u001b[38;5;124m\"\u001b[39m\u001b[38;5;132;01m{\u001b[39;00mkey\u001b[38;5;132;01m}\u001b[39;00m\u001b[38;5;132;01m{\u001b[39;00mk\u001b[38;5;132;01m}\u001b[39;00m\u001b[38;5;124m/\u001b[39m\u001b[38;5;124m\"\u001b[39m, parent_key, f) \u001b[38;5;28;01mfor\u001b[39;00m k, v \u001b[38;5;129;01min\u001b[39;00m value\u001b[38;5;241m.\u001b[39mitems()}\n\u001b[1;32m   2142\u001b[0m \u001b[38;5;28;01melse\u001b[39;00m:\n\u001b[1;32m   2143\u001b[0m     \u001b[38;5;28;01mreturn\u001b[39;00m value\n",
      "File \u001b[0;32m~/notion/lib/python3.10/site-packages/reacton/core.py:2141\u001b[0m, in \u001b[0;36m<dictcomp>\u001b[0;34m(.0)\u001b[0m\n\u001b[1;32m   2139\u001b[0m     \u001b[38;5;28;01mreturn\u001b[39;00m values\n\u001b[1;32m   2140\u001b[0m \u001b[38;5;28;01melif\u001b[39;00m \u001b[38;5;28misinstance\u001b[39m(value, \u001b[38;5;28mdict\u001b[39m):\n\u001b[0;32m-> 2141\u001b[0m     \u001b[38;5;28;01mreturn\u001b[39;00m {k: \u001b[38;5;28;43mself\u001b[39;49m\u001b[38;5;241;43m.\u001b[39;49m\u001b[43m_visit_children_values\u001b[49m\u001b[43m(\u001b[49m\u001b[43mv\u001b[49m\u001b[43m,\u001b[49m\u001b[43m \u001b[49m\u001b[38;5;124;43mf\u001b[39;49m\u001b[38;5;124;43m\"\u001b[39;49m\u001b[38;5;132;43;01m{\u001b[39;49;00m\u001b[43mkey\u001b[49m\u001b[38;5;132;43;01m}\u001b[39;49;00m\u001b[38;5;132;43;01m{\u001b[39;49;00m\u001b[43mk\u001b[49m\u001b[38;5;132;43;01m}\u001b[39;49;00m\u001b[38;5;124;43m/\u001b[39;49m\u001b[38;5;124;43m\"\u001b[39;49m\u001b[43m,\u001b[49m\u001b[43m \u001b[49m\u001b[43mparent_key\u001b[49m\u001b[43m,\u001b[49m\u001b[43m \u001b[49m\u001b[43mf\u001b[49m\u001b[43m)\u001b[49m \u001b[38;5;28;01mfor\u001b[39;00m k, v \u001b[38;5;129;01min\u001b[39;00m value\u001b[38;5;241m.\u001b[39mitems()}\n\u001b[1;32m   2142\u001b[0m \u001b[38;5;28;01melse\u001b[39;00m:\n\u001b[1;32m   2143\u001b[0m     \u001b[38;5;28;01mreturn\u001b[39;00m value\n",
      "File \u001b[0;32m~/notion/lib/python3.10/site-packages/reacton/core.py:2136\u001b[0m, in \u001b[0;36m_RenderContext._visit_children_values\u001b[0;34m(self, value, key, parent_key, f)\u001b[0m\n\u001b[1;32m   2134\u001b[0m \u001b[38;5;28;01melif\u001b[39;00m \u001b[38;5;28misinstance\u001b[39m(value, (\u001b[38;5;28mlist\u001b[39m, \u001b[38;5;28mtuple\u001b[39m)):\n\u001b[1;32m   2135\u001b[0m     was_tuple \u001b[38;5;241m=\u001b[39m \u001b[38;5;28misinstance\u001b[39m(value, \u001b[38;5;28mtuple\u001b[39m)\n\u001b[0;32m-> 2136\u001b[0m     values \u001b[38;5;241m=\u001b[39m [\u001b[38;5;28mself\u001b[39m\u001b[38;5;241m.\u001b[39m_visit_children_values(v, \u001b[38;5;124mf\u001b[39m\u001b[38;5;124m\"\u001b[39m\u001b[38;5;132;01m{\u001b[39;00mkey\u001b[38;5;132;01m}\u001b[39;00m\u001b[38;5;132;01m{\u001b[39;00mindex\u001b[38;5;132;01m}\u001b[39;00m\u001b[38;5;124m/\u001b[39m\u001b[38;5;124m\"\u001b[39m, parent_key, f) \u001b[38;5;28;01mfor\u001b[39;00m index, v \u001b[38;5;129;01min\u001b[39;00m \u001b[38;5;28menumerate\u001b[39m(value)]\n\u001b[1;32m   2137\u001b[0m     \u001b[38;5;28;01mif\u001b[39;00m was_tuple:\n\u001b[1;32m   2138\u001b[0m         \u001b[38;5;28;01mreturn\u001b[39;00m \u001b[38;5;28mtuple\u001b[39m(values)\n",
      "File \u001b[0;32m~/notion/lib/python3.10/site-packages/reacton/core.py:2136\u001b[0m, in \u001b[0;36m<listcomp>\u001b[0;34m(.0)\u001b[0m\n\u001b[1;32m   2134\u001b[0m \u001b[38;5;28;01melif\u001b[39;00m \u001b[38;5;28misinstance\u001b[39m(value, (\u001b[38;5;28mlist\u001b[39m, \u001b[38;5;28mtuple\u001b[39m)):\n\u001b[1;32m   2135\u001b[0m     was_tuple \u001b[38;5;241m=\u001b[39m \u001b[38;5;28misinstance\u001b[39m(value, \u001b[38;5;28mtuple\u001b[39m)\n\u001b[0;32m-> 2136\u001b[0m     values \u001b[38;5;241m=\u001b[39m [\u001b[38;5;28;43mself\u001b[39;49m\u001b[38;5;241;43m.\u001b[39;49m\u001b[43m_visit_children_values\u001b[49m\u001b[43m(\u001b[49m\u001b[43mv\u001b[49m\u001b[43m,\u001b[49m\u001b[43m \u001b[49m\u001b[38;5;124;43mf\u001b[39;49m\u001b[38;5;124;43m\"\u001b[39;49m\u001b[38;5;132;43;01m{\u001b[39;49;00m\u001b[43mkey\u001b[49m\u001b[38;5;132;43;01m}\u001b[39;49;00m\u001b[38;5;132;43;01m{\u001b[39;49;00m\u001b[43mindex\u001b[49m\u001b[38;5;132;43;01m}\u001b[39;49;00m\u001b[38;5;124;43m/\u001b[39;49m\u001b[38;5;124;43m\"\u001b[39;49m\u001b[43m,\u001b[49m\u001b[43m \u001b[49m\u001b[43mparent_key\u001b[49m\u001b[43m,\u001b[49m\u001b[43m \u001b[49m\u001b[43mf\u001b[49m\u001b[43m)\u001b[49m \u001b[38;5;28;01mfor\u001b[39;00m index, v \u001b[38;5;129;01min\u001b[39;00m \u001b[38;5;28menumerate\u001b[39m(value)]\n\u001b[1;32m   2137\u001b[0m     \u001b[38;5;28;01mif\u001b[39;00m was_tuple:\n\u001b[1;32m   2138\u001b[0m         \u001b[38;5;28;01mreturn\u001b[39;00m \u001b[38;5;28mtuple\u001b[39m(values)\n",
      "File \u001b[0;32m~/notion/lib/python3.10/site-packages/reacton/core.py:2133\u001b[0m, in \u001b[0;36m_RenderContext._visit_children_values\u001b[0;34m(self, value, key, parent_key, f)\u001b[0m\n\u001b[1;32m   2131\u001b[0m \u001b[38;5;28;01mdef\u001b[39;00m \u001b[38;5;21m_visit_children_values\u001b[39m(\u001b[38;5;28mself\u001b[39m, value: Any, key: \u001b[38;5;28mstr\u001b[39m, parent_key: \u001b[38;5;28mstr\u001b[39m, f: Callable):\n\u001b[1;32m   2132\u001b[0m     \u001b[38;5;28;01mif\u001b[39;00m \u001b[38;5;28misinstance\u001b[39m(value, Element):\n\u001b[0;32m-> 2133\u001b[0m         \u001b[38;5;28;01mreturn\u001b[39;00m \u001b[43mf\u001b[49m\u001b[43m(\u001b[49m\u001b[43mvalue\u001b[49m\u001b[43m,\u001b[49m\u001b[43m \u001b[49m\u001b[43mkey\u001b[49m\u001b[43m,\u001b[49m\u001b[43m \u001b[49m\u001b[43mparent_key\u001b[49m\u001b[43m)\u001b[49m\n\u001b[1;32m   2134\u001b[0m     \u001b[38;5;28;01melif\u001b[39;00m \u001b[38;5;28misinstance\u001b[39m(value, (\u001b[38;5;28mlist\u001b[39m, \u001b[38;5;28mtuple\u001b[39m)):\n\u001b[1;32m   2135\u001b[0m         was_tuple \u001b[38;5;241m=\u001b[39m \u001b[38;5;28misinstance\u001b[39m(value, \u001b[38;5;28mtuple\u001b[39m)\n",
      "File \u001b[0;32m~/notion/lib/python3.10/site-packages/reacton/core.py:1593\u001b[0m, in \u001b[0;36m_RenderContext._render\u001b[0;34m(self, element, default_key, parent_key)\u001b[0m\n\u001b[1;32m   1591\u001b[0m \u001b[38;5;66;03m# only when we landed at a widget leaf, or a shared element, we need to render the children\u001b[39;00m\n\u001b[1;32m   1592\u001b[0m \u001b[38;5;28;01mif\u001b[39;00m \u001b[38;5;28misinstance\u001b[39m(el\u001b[38;5;241m.\u001b[39mcomponent, ComponentWidget) \u001b[38;5;129;01mor\u001b[39;00m el\u001b[38;5;241m.\u001b[39mis_shared:\n\u001b[0;32m-> 1593\u001b[0m     \u001b[38;5;28;43mself\u001b[39;49m\u001b[38;5;241;43m.\u001b[39;49m\u001b[43m_visit_children\u001b[49m\u001b[43m(\u001b[49m\u001b[43mel\u001b[49m\u001b[43m,\u001b[49m\u001b[43m \u001b[49m\u001b[43mkey\u001b[49m\u001b[43m,\u001b[49m\u001b[43m \u001b[49m\u001b[43mparent_key\u001b[49m\u001b[43m,\u001b[49m\u001b[43m \u001b[49m\u001b[38;5;28;43mself\u001b[39;49m\u001b[38;5;241;43m.\u001b[39;49m\u001b[43m_render\u001b[49m\u001b[43m)\u001b[49m\n\u001b[1;32m   1594\u001b[0m \u001b[38;5;28;01massert\u001b[39;00m \u001b[38;5;28mself\u001b[39m\u001b[38;5;241m.\u001b[39mcontext \u001b[38;5;129;01mis\u001b[39;00m context\n\u001b[1;32m   1595\u001b[0m logger\u001b[38;5;241m.\u001b[39mdebug(\u001b[38;5;124m\"\u001b[39m\u001b[38;5;124mRender: arguments done (children of \u001b[39m\u001b[38;5;132;01m%s\u001b[39;00m\u001b[38;5;124m,\u001b[39m\u001b[38;5;132;01m%s\u001b[39;00m\u001b[38;5;124m)\u001b[39m\u001b[38;5;124m\"\u001b[39m, parent_key, key)\n",
      "File \u001b[0;32m~/notion/lib/python3.10/site-packages/reacton/core.py:2128\u001b[0m, in \u001b[0;36m_RenderContext._visit_children\u001b[0;34m(self, el, default_key, parent_key, f)\u001b[0m\n\u001b[1;32m   2126\u001b[0m     key \u001b[38;5;241m=\u001b[39m default_key\n\u001b[1;32m   2127\u001b[0m \u001b[38;5;28;01massert\u001b[39;00m key \u001b[38;5;129;01mis\u001b[39;00m \u001b[38;5;129;01mnot\u001b[39;00m \u001b[38;5;28;01mNone\u001b[39;00m\n\u001b[0;32m-> 2128\u001b[0m \u001b[38;5;28;43mself\u001b[39;49m\u001b[38;5;241;43m.\u001b[39;49m\u001b[43m_visit_children_values\u001b[49m\u001b[43m(\u001b[49m\u001b[43mel\u001b[49m\u001b[38;5;241;43m.\u001b[39;49m\u001b[43mkwargs\u001b[49m\u001b[43m,\u001b[49m\u001b[43m \u001b[49m\u001b[43mkey\u001b[49m\u001b[43m,\u001b[49m\u001b[43m \u001b[49m\u001b[43mparent_key\u001b[49m\u001b[43m,\u001b[49m\u001b[43m \u001b[49m\u001b[43mf\u001b[49m\u001b[43m)\u001b[49m\n\u001b[1;32m   2129\u001b[0m \u001b[38;5;28mself\u001b[39m\u001b[38;5;241m.\u001b[39m_visit_children_values(el\u001b[38;5;241m.\u001b[39margs, key, parent_key, f)\n",
      "File \u001b[0;32m~/notion/lib/python3.10/site-packages/reacton/core.py:2141\u001b[0m, in \u001b[0;36m_RenderContext._visit_children_values\u001b[0;34m(self, value, key, parent_key, f)\u001b[0m\n\u001b[1;32m   2139\u001b[0m     \u001b[38;5;28;01mreturn\u001b[39;00m values\n\u001b[1;32m   2140\u001b[0m \u001b[38;5;28;01melif\u001b[39;00m \u001b[38;5;28misinstance\u001b[39m(value, \u001b[38;5;28mdict\u001b[39m):\n\u001b[0;32m-> 2141\u001b[0m     \u001b[38;5;28;01mreturn\u001b[39;00m {k: \u001b[38;5;28mself\u001b[39m\u001b[38;5;241m.\u001b[39m_visit_children_values(v, \u001b[38;5;124mf\u001b[39m\u001b[38;5;124m\"\u001b[39m\u001b[38;5;132;01m{\u001b[39;00mkey\u001b[38;5;132;01m}\u001b[39;00m\u001b[38;5;132;01m{\u001b[39;00mk\u001b[38;5;132;01m}\u001b[39;00m\u001b[38;5;124m/\u001b[39m\u001b[38;5;124m\"\u001b[39m, parent_key, f) \u001b[38;5;28;01mfor\u001b[39;00m k, v \u001b[38;5;129;01min\u001b[39;00m value\u001b[38;5;241m.\u001b[39mitems()}\n\u001b[1;32m   2142\u001b[0m \u001b[38;5;28;01melse\u001b[39;00m:\n\u001b[1;32m   2143\u001b[0m     \u001b[38;5;28;01mreturn\u001b[39;00m value\n",
      "File \u001b[0;32m~/notion/lib/python3.10/site-packages/reacton/core.py:2141\u001b[0m, in \u001b[0;36m<dictcomp>\u001b[0;34m(.0)\u001b[0m\n\u001b[1;32m   2139\u001b[0m     \u001b[38;5;28;01mreturn\u001b[39;00m values\n\u001b[1;32m   2140\u001b[0m \u001b[38;5;28;01melif\u001b[39;00m \u001b[38;5;28misinstance\u001b[39m(value, \u001b[38;5;28mdict\u001b[39m):\n\u001b[0;32m-> 2141\u001b[0m     \u001b[38;5;28;01mreturn\u001b[39;00m {k: \u001b[38;5;28;43mself\u001b[39;49m\u001b[38;5;241;43m.\u001b[39;49m\u001b[43m_visit_children_values\u001b[49m\u001b[43m(\u001b[49m\u001b[43mv\u001b[49m\u001b[43m,\u001b[49m\u001b[43m \u001b[49m\u001b[38;5;124;43mf\u001b[39;49m\u001b[38;5;124;43m\"\u001b[39;49m\u001b[38;5;132;43;01m{\u001b[39;49;00m\u001b[43mkey\u001b[49m\u001b[38;5;132;43;01m}\u001b[39;49;00m\u001b[38;5;132;43;01m{\u001b[39;49;00m\u001b[43mk\u001b[49m\u001b[38;5;132;43;01m}\u001b[39;49;00m\u001b[38;5;124;43m/\u001b[39;49m\u001b[38;5;124;43m\"\u001b[39;49m\u001b[43m,\u001b[49m\u001b[43m \u001b[49m\u001b[43mparent_key\u001b[49m\u001b[43m,\u001b[49m\u001b[43m \u001b[49m\u001b[43mf\u001b[49m\u001b[43m)\u001b[49m \u001b[38;5;28;01mfor\u001b[39;00m k, v \u001b[38;5;129;01min\u001b[39;00m value\u001b[38;5;241m.\u001b[39mitems()}\n\u001b[1;32m   2142\u001b[0m \u001b[38;5;28;01melse\u001b[39;00m:\n\u001b[1;32m   2143\u001b[0m     \u001b[38;5;28;01mreturn\u001b[39;00m value\n",
      "File \u001b[0;32m~/notion/lib/python3.10/site-packages/reacton/core.py:2136\u001b[0m, in \u001b[0;36m_RenderContext._visit_children_values\u001b[0;34m(self, value, key, parent_key, f)\u001b[0m\n\u001b[1;32m   2134\u001b[0m \u001b[38;5;28;01melif\u001b[39;00m \u001b[38;5;28misinstance\u001b[39m(value, (\u001b[38;5;28mlist\u001b[39m, \u001b[38;5;28mtuple\u001b[39m)):\n\u001b[1;32m   2135\u001b[0m     was_tuple \u001b[38;5;241m=\u001b[39m \u001b[38;5;28misinstance\u001b[39m(value, \u001b[38;5;28mtuple\u001b[39m)\n\u001b[0;32m-> 2136\u001b[0m     values \u001b[38;5;241m=\u001b[39m [\u001b[38;5;28mself\u001b[39m\u001b[38;5;241m.\u001b[39m_visit_children_values(v, \u001b[38;5;124mf\u001b[39m\u001b[38;5;124m\"\u001b[39m\u001b[38;5;132;01m{\u001b[39;00mkey\u001b[38;5;132;01m}\u001b[39;00m\u001b[38;5;132;01m{\u001b[39;00mindex\u001b[38;5;132;01m}\u001b[39;00m\u001b[38;5;124m/\u001b[39m\u001b[38;5;124m\"\u001b[39m, parent_key, f) \u001b[38;5;28;01mfor\u001b[39;00m index, v \u001b[38;5;129;01min\u001b[39;00m \u001b[38;5;28menumerate\u001b[39m(value)]\n\u001b[1;32m   2137\u001b[0m     \u001b[38;5;28;01mif\u001b[39;00m was_tuple:\n\u001b[1;32m   2138\u001b[0m         \u001b[38;5;28;01mreturn\u001b[39;00m \u001b[38;5;28mtuple\u001b[39m(values)\n",
      "File \u001b[0;32m~/notion/lib/python3.10/site-packages/reacton/core.py:2136\u001b[0m, in \u001b[0;36m<listcomp>\u001b[0;34m(.0)\u001b[0m\n\u001b[1;32m   2134\u001b[0m \u001b[38;5;28;01melif\u001b[39;00m \u001b[38;5;28misinstance\u001b[39m(value, (\u001b[38;5;28mlist\u001b[39m, \u001b[38;5;28mtuple\u001b[39m)):\n\u001b[1;32m   2135\u001b[0m     was_tuple \u001b[38;5;241m=\u001b[39m \u001b[38;5;28misinstance\u001b[39m(value, \u001b[38;5;28mtuple\u001b[39m)\n\u001b[0;32m-> 2136\u001b[0m     values \u001b[38;5;241m=\u001b[39m [\u001b[38;5;28;43mself\u001b[39;49m\u001b[38;5;241;43m.\u001b[39;49m\u001b[43m_visit_children_values\u001b[49m\u001b[43m(\u001b[49m\u001b[43mv\u001b[49m\u001b[43m,\u001b[49m\u001b[43m \u001b[49m\u001b[38;5;124;43mf\u001b[39;49m\u001b[38;5;124;43m\"\u001b[39;49m\u001b[38;5;132;43;01m{\u001b[39;49;00m\u001b[43mkey\u001b[49m\u001b[38;5;132;43;01m}\u001b[39;49;00m\u001b[38;5;132;43;01m{\u001b[39;49;00m\u001b[43mindex\u001b[49m\u001b[38;5;132;43;01m}\u001b[39;49;00m\u001b[38;5;124;43m/\u001b[39;49m\u001b[38;5;124;43m\"\u001b[39;49m\u001b[43m,\u001b[49m\u001b[43m \u001b[49m\u001b[43mparent_key\u001b[49m\u001b[43m,\u001b[49m\u001b[43m \u001b[49m\u001b[43mf\u001b[49m\u001b[43m)\u001b[49m \u001b[38;5;28;01mfor\u001b[39;00m index, v \u001b[38;5;129;01min\u001b[39;00m \u001b[38;5;28menumerate\u001b[39m(value)]\n\u001b[1;32m   2137\u001b[0m     \u001b[38;5;28;01mif\u001b[39;00m was_tuple:\n\u001b[1;32m   2138\u001b[0m         \u001b[38;5;28;01mreturn\u001b[39;00m \u001b[38;5;28mtuple\u001b[39m(values)\n",
      "File \u001b[0;32m~/notion/lib/python3.10/site-packages/reacton/core.py:2133\u001b[0m, in \u001b[0;36m_RenderContext._visit_children_values\u001b[0;34m(self, value, key, parent_key, f)\u001b[0m\n\u001b[1;32m   2131\u001b[0m \u001b[38;5;28;01mdef\u001b[39;00m \u001b[38;5;21m_visit_children_values\u001b[39m(\u001b[38;5;28mself\u001b[39m, value: Any, key: \u001b[38;5;28mstr\u001b[39m, parent_key: \u001b[38;5;28mstr\u001b[39m, f: Callable):\n\u001b[1;32m   2132\u001b[0m     \u001b[38;5;28;01mif\u001b[39;00m \u001b[38;5;28misinstance\u001b[39m(value, Element):\n\u001b[0;32m-> 2133\u001b[0m         \u001b[38;5;28;01mreturn\u001b[39;00m \u001b[43mf\u001b[49m\u001b[43m(\u001b[49m\u001b[43mvalue\u001b[49m\u001b[43m,\u001b[49m\u001b[43m \u001b[49m\u001b[43mkey\u001b[49m\u001b[43m,\u001b[49m\u001b[43m \u001b[49m\u001b[43mparent_key\u001b[49m\u001b[43m)\u001b[49m\n\u001b[1;32m   2134\u001b[0m     \u001b[38;5;28;01melif\u001b[39;00m \u001b[38;5;28misinstance\u001b[39m(value, (\u001b[38;5;28mlist\u001b[39m, \u001b[38;5;28mtuple\u001b[39m)):\n\u001b[1;32m   2135\u001b[0m         was_tuple \u001b[38;5;241m=\u001b[39m \u001b[38;5;28misinstance\u001b[39m(value, \u001b[38;5;28mtuple\u001b[39m)\n",
      "File \u001b[0;32m~/notion/lib/python3.10/site-packages/reacton/core.py:1710\u001b[0m, in \u001b[0;36m_RenderContext._render\u001b[0;34m(self, element, default_key, parent_key)\u001b[0m\n\u001b[1;32m   1708\u001b[0m     logger\u001b[38;5;241m.\u001b[39mdebug(\u001b[38;5;124m\"\u001b[39m\u001b[38;5;124mroot element: \u001b[39m\u001b[38;5;132;01m%r\u001b[39;00m\u001b[38;5;124m \u001b[39m\u001b[38;5;132;01m%x\u001b[39;00m\u001b[38;5;124m\"\u001b[39m, root_element, \u001b[38;5;28mid\u001b[39m(root_element))\n\u001b[1;32m   1709\u001b[0m     new_parent_key \u001b[38;5;241m=\u001b[39m join_key(parent_key, key)\n\u001b[0;32m-> 1710\u001b[0m     \u001b[38;5;28;43mself\u001b[39;49m\u001b[38;5;241;43m.\u001b[39;49m\u001b[43m_render\u001b[49m\u001b[43m(\u001b[49m\u001b[43mroot_element\u001b[49m\u001b[43m,\u001b[49m\u001b[43m \u001b[49m\u001b[38;5;124;43m\"\u001b[39;49m\u001b[38;5;124;43m/\u001b[39;49m\u001b[38;5;124;43m\"\u001b[39;49m\u001b[43m,\u001b[49m\u001b[43m \u001b[49m\u001b[43mparent_key\u001b[49m\u001b[38;5;241;43m=\u001b[39;49m\u001b[43mnew_parent_key\u001b[49m\u001b[43m)\u001b[49m  \u001b[38;5;66;03m# depth first\u001b[39;00m\n\u001b[1;32m   1711\u001b[0m     context\u001b[38;5;241m.\u001b[39mroot_element_next \u001b[38;5;241m=\u001b[39m root_element\n\u001b[1;32m   1712\u001b[0m \u001b[38;5;28;01melse\u001b[39;00m:\n",
      "File \u001b[0;32m~/notion/lib/python3.10/site-packages/reacton/core.py:1543\u001b[0m, in \u001b[0;36m_RenderContext._render\u001b[0;34m(self, element, default_key, parent_key)\u001b[0m\n\u001b[1;32m   1541\u001b[0m \u001b[38;5;28;01mdef\u001b[39;00m \u001b[38;5;21m_render\u001b[39m(\u001b[38;5;28mself\u001b[39m, element: Element, default_key: \u001b[38;5;28mstr\u001b[39m, parent_key: \u001b[38;5;28mstr\u001b[39m):\n\u001b[1;32m   1542\u001b[0m     \u001b[38;5;28;01mif\u001b[39;00m \u001b[38;5;129;01mnot\u001b[39;00m \u001b[38;5;28misinstance\u001b[39m(element, Element):\n\u001b[0;32m-> 1543\u001b[0m         \u001b[38;5;28;01mraise\u001b[39;00m \u001b[38;5;167;01mTypeError\u001b[39;00m(\u001b[38;5;124mf\u001b[39m\u001b[38;5;124m\"\u001b[39m\u001b[38;5;124mExpected element, not \u001b[39m\u001b[38;5;132;01m{\u001b[39;00melement\u001b[38;5;132;01m}\u001b[39;00m\u001b[38;5;124m\"\u001b[39m)\n\u001b[1;32m   1544\u001b[0m     \u001b[38;5;66;03m# for tracking stale data/elements when using get_widget\u001b[39;00m\n\u001b[1;32m   1545\u001b[0m     \u001b[38;5;28mself\u001b[39m\u001b[38;5;241m.\u001b[39m_old_element_ids\u001b[38;5;241m.\u001b[39madd(\u001b[38;5;28mid\u001b[39m(element))\n",
      "\u001b[0;31mTypeError\u001b[0m: Expected element, not Silvia Hua\nGST# 816632178RT0001\n5093 St Margarets St\nVancouver, BC\nV5R 3H4\nCanada"
     ]
    },
    {
     "data": {
      "text/plain": [
       "Load_Text('address.txt', '/home/silvhua/repositories/notion/private')"
      ]
     },
     "execution_count": 8,
     "metadata": {},
     "output_type": "execute_result"
    }
   ],
   "source": [
    "Load_Text('address.txt', address_filepath)"
   ]
  },
  {
   "cell_type": "markdown",
   "metadata": {},
   "source": [
    "## 1.1"
   ]
  },
  {
   "cell_type": "code",
   "execution_count": 9,
   "metadata": {},
   "outputs": [
    {
     "name": "stdout",
     "output_type": "stream",
     "text": [
      "Silvia Hua\n",
      "GST# 816632178RT0001\n",
      "5093 St Margarets St\n",
      "Vancouver, BC\n",
      "V5R 3H4\n",
      "Canada <class 'str'>\n"
     ]
    },
    {
     "data": {
      "application/vnd.jupyter.widget-view+json": {
       "model_id": "971e2b93d6b14779982eb24d22bf08cc",
       "version_major": 2,
       "version_minor": 0
      },
      "text/html": [
       "Cannot show widget. You probably want to rerun the code cell above (<i>Click in the code cell, and press Shift+Enter <kbd>⇧</kbd>+<kbd>↩</kbd></i>)."
      ],
      "text/plain": [
       "Cannot show ipywidgets in text"
      ]
     },
     "metadata": {},
     "output_type": "display_data"
    }
   ],
   "source": [
    "import sys\n",
    "sys.path.append(r\"/home/silvhua/repositories/notion/src\")\n",
    "sys.path.append(r\"/home/silvhua/custom_python\")\n",
    "import solara\n",
    "from silvhua import load_txt\n",
    "\n",
    "address_filepath = '/home/silvhua/repositories/notion/private'\n",
    "@solara.component\n",
    "def Load_Text(filename, path):\n",
    "    text = load_txt(filename, path)\n",
    "    print(text, type(text))\n",
    "    return solara.Markdown(text)\n",
    "\n",
    "def Invoice_Header(client: str):\n",
    "    address = Load_Text('address.txt', address_filepath)\n",
    "    client_address = Load_Text(f'{client}_address.txt', address_filepath)\n",
    "    print(address, type(address))\n",
    "    # with solara.Column():\n",
    "    #     solara.Markdown('hello')\n",
    "        # solara.Markdown(f\"\"\"{address}\"\"\")\n",
    "        # solara.Markdown(client_address)\n",
    "    \n",
    "Load_Text('address.txt', address_filepath)"
   ]
  },
  {
   "cell_type": "markdown",
   "metadata": {},
   "source": [
    "### 1.11"
   ]
  },
  {
   "cell_type": "code",
   "execution_count": 26,
   "metadata": {},
   "outputs": [
    {
     "data": {
      "application/vnd.jupyter.widget-view+json": {
       "model_id": "bc0472ada8d34d4d9d78eaaeb605e58e",
       "version_major": 2,
       "version_minor": 0
      },
      "text/html": [
       "Cannot show widget. You probably want to rerun the code cell above (<i>Click in the code cell, and press Shift+Enter <kbd>⇧</kbd>+<kbd>↩</kbd></i>)."
      ],
      "text/plain": [
       "Cannot show ipywidgets in text"
      ]
     },
     "metadata": {},
     "output_type": "display_data"
    }
   ],
   "source": [
    "import sys\n",
    "sys.path.append(r\"/home/silvhua/repositories/notion/src\")\n",
    "sys.path.append(r\"/home/silvhua/custom_python\")\n",
    "import solara\n",
    "from silvhua import load_txt\n",
    "\n",
    "address_filepath = '/home/silvhua/repositories/notion/private'\n",
    "@solara.component\n",
    "def Load_Text(filename, path):\n",
    "    text = load_txt(filename, path)\n",
    "    return solara.Markdown(text)\n",
    "\n",
    "@solara.component\n",
    "def Invoice_Header(client: str):\n",
    "    address = Load_Text('address.txt', address_filepath)\n",
    "    client_address = Load_Text(f'{client}_address.txt', address_filepath)\n",
    "    with solara.Columns([1,1]):\n",
    "        # address\n",
    "        # client_address\n",
    "        solara.Title('hello')\n",
    "        with solara.Sidebar():\n",
    "            solara.Markdown(\"## I am in the sidebar\")\n",
    "            solara.SliderInt(label=\"Ideal for placing controls\")\n",
    "\n",
    "@solara.component\n",
    "def Page():\n",
    "    Invoice_Header('OIF')\n",
    "\n",
    "Page()"
   ]
  },
  {
   "cell_type": "markdown",
   "metadata": {},
   "source": [
    "## 1.2"
   ]
  },
  {
   "cell_type": "code",
   "execution_count": 34,
   "metadata": {},
   "outputs": [
    {
     "data": {
      "application/vnd.jupyter.widget-view+json": {
       "model_id": "f27fbc8e10c54270b474eb2366aefcbd",
       "version_major": 2,
       "version_minor": 0
      },
      "text/html": [
       "Cannot show widget. You probably want to rerun the code cell above (<i>Click in the code cell, and press Shift+Enter <kbd>⇧</kbd>+<kbd>↩</kbd></i>)."
      ],
      "text/plain": [
       "Cannot show ipywidgets in text"
      ]
     },
     "metadata": {},
     "output_type": "display_data"
    }
   ],
   "source": [
    "import sys\n",
    "sys.path.append(r\"/home/silvhua/repositories/notion/src\")\n",
    "sys.path.append(r\"/home/silvhua/custom_python\")\n",
    "import solara\n",
    "from silvhua import load_txt\n",
    "\n",
    "address_filepath = '/home/silvhua/repositories/notion/private'\n",
    "@solara.component\n",
    "def Load_Text(filename, path):\n",
    "    text = load_txt(filename, path)\n",
    "    return solara.Markdown(text)\n",
    "\n",
    "@solara.component\n",
    "def Invoice_Header(client: str):\n",
    "    with solara.Columns([1,1]):\n",
    "        solara.Markdown('To:')\n",
    "        solara.Markdown('From:')\n",
    "    with solara.Columns([1,1]):\n",
    "        Load_Text(f'{client}_address.txt', address_filepath)\n",
    "        Load_Text('address.txt', address_filepath)\n",
    "        # address\n",
    "        # client_address\n",
    "        solara.Title('hello')\n",
    "        with solara.Sidebar():\n",
    "            solara.Markdown(\"## I am in the sidebar\")\n",
    "            solara.SliderInt(label=\"Ideal for placing controls\")\n",
    "\n",
    "@solara.component\n",
    "def Page():\n",
    "    Invoice_Header('OIF')\n",
    "\n",
    "Page()"
   ]
  },
  {
   "cell_type": "markdown",
   "metadata": {},
   "source": [
    "## 1.3"
   ]
  },
  {
   "cell_type": "code",
   "execution_count": 48,
   "metadata": {},
   "outputs": [
    {
     "data": {
      "application/vnd.jupyter.widget-view+json": {
       "model_id": "0936ad1ba44b4997aaadac917e8bc5e1",
       "version_major": 2,
       "version_minor": 0
      },
      "text/html": [
       "Cannot show widget. You probably want to rerun the code cell above (<i>Click in the code cell, and press Shift+Enter <kbd>⇧</kbd>+<kbd>↩</kbd></i>)."
      ],
      "text/plain": [
       "Cannot show ipywidgets in text"
      ]
     },
     "metadata": {},
     "output_type": "display_data"
    }
   ],
   "source": [
    "import sys\n",
    "sys.path.append(r\"/home/silvhua/repositories/notion/src\")\n",
    "sys.path.append(r\"/home/silvhua/custom_python\")\n",
    "import solara\n",
    "from silvhua import load_txt\n",
    "\n",
    "address_filepath = '/home/silvhua/repositories/notion/private'\n",
    "@solara.component\n",
    "def Load_Text(filename, path):\n",
    "    text = load_txt(filename, path)\n",
    "    text = text.replace('\\n', '\\n\\n')\n",
    "    return solara.Markdown(text)\n",
    "\n",
    "@solara.component\n",
    "def Invoice_Header(client: str):\n",
    "    solara.Title('hello')\n",
    "    with solara.Columns([1,1]):\n",
    "        solara.Markdown('BILL TO:')\n",
    "        solara.Markdown('FROM:')\n",
    "    with solara.Columns([1,1]):\n",
    "        Load_Text(f'{client}_address.txt', address_filepath)\n",
    "        Load_Text('address.txt', address_filepath)\n",
    "\n",
    "@solara.component\n",
    "def Page():\n",
    "    Invoice_Header('OIF')\n",
    "\n",
    "Page()"
   ]
  },
  {
   "cell_type": "markdown",
   "metadata": {},
   "source": [
    "# Iteration 2"
   ]
  },
  {
   "cell_type": "code",
   "execution_count": null,
   "metadata": {},
   "outputs": [],
   "source": []
  },
  {
   "cell_type": "code",
   "execution_count": null,
   "metadata": {},
   "outputs": [],
   "source": []
  },
  {
   "cell_type": "code",
   "execution_count": null,
   "metadata": {},
   "outputs": [],
   "source": []
  },
  {
   "cell_type": "code",
   "execution_count": null,
   "metadata": {},
   "outputs": [],
   "source": []
  },
  {
   "cell_type": "code",
   "execution_count": null,
   "metadata": {},
   "outputs": [],
   "source": []
  },
  {
   "cell_type": "code",
   "execution_count": null,
   "metadata": {},
   "outputs": [],
   "source": []
  },
  {
   "cell_type": "code",
   "execution_count": null,
   "metadata": {},
   "outputs": [],
   "source": []
  },
  {
   "cell_type": "code",
   "execution_count": null,
   "metadata": {},
   "outputs": [],
   "source": []
  },
  {
   "cell_type": "code",
   "execution_count": null,
   "metadata": {},
   "outputs": [],
   "source": []
  },
  {
   "cell_type": "code",
   "execution_count": null,
   "metadata": {},
   "outputs": [],
   "source": []
  },
  {
   "cell_type": "code",
   "execution_count": null,
   "metadata": {},
   "outputs": [],
   "source": []
  },
  {
   "attachments": {},
   "cell_type": "markdown",
   "metadata": {},
   "source": [
    "# *End of Page*"
   ]
  }
 ],
 "metadata": {
  "kernelspec": {
   "display_name": "Python 3.9.13 64-bit",
   "language": "python",
   "name": "python3"
  },
  "language_info": {
   "codemirror_mode": {
    "name": "ipython",
    "version": 3
   },
   "file_extension": ".py",
   "mimetype": "text/x-python",
   "name": "python",
   "nbconvert_exporter": "python",
   "pygments_lexer": "ipython3",
   "version": "3.10.12"
  },
  "orig_nbformat": 4,
  "vscode": {
   "interpreter": {
    "hash": "11938c6bc6919ae2720b4d5011047913343b08a43b18698fd82dedb0d4417594"
   }
  }
 },
 "nbformat": 4,
 "nbformat_minor": 2
}
