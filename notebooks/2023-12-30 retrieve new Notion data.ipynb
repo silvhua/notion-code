{
 "cells": [
  {
   "attachments": {},
   "cell_type": "markdown",
   "metadata": {},
   "source": [
    "# Title\n",
    "[]()"
   ]
  },
  {
   "cell_type": "code",
   "execution_count": 1,
   "metadata": {},
   "outputs": [
    {
     "name": "stdout",
     "output_type": "stream",
     "text": [
      "Current time stamp: 2023-12-30_2148\n"
     ]
    }
   ],
   "source": [
    "const {getCurrentTimestamp, loadJsonFile, saveResponseJson} = require('../src/fileFunctions')\n",
    "const { parsePage, retrievePage } = require('../src/notionFunctions')\n",
    "const { Client } = require('@notionhq/client');\n",
    "const fs = require('fs');"
   ]
  },
  {
   "cell_type": "code",
   "execution_count": null,
   "metadata": {},
   "outputs": [],
   "source": [
    "path = '/home/silvhua/repositories/notion/data/'\n"
   ]
  },
  {
   "cell_type": "code",
   "execution_count": 15,
   "metadata": {},
   "outputs": [
    {
     "name": "stdout",
     "output_type": "stream",
     "text": [
      "Loading JSON file: ../data/df_attributes.json\n",
      "Newest record created_time: 2023-12-27T14:48:00-08:00\n"
     ]
    },
    {
     "name": "stdout",
     "output_type": "stream",
     "text": [
      "24 issues successfully fetched.\n",
      "Saved response to ../data/notion_time_tracking_2023-12-27T14:48:00-08:00.json\n"
     ]
    }
   ],
   "source": [
    "async function getNewNotionData(\n",
    "    df_key='notion_df', df_attributes_file='../data/df_attributes.json',\n",
    "    jsonFileName='../data/notion_time_tracking', save = true, appendTimestamp = false) {\n",
    "    let notionApiKey = process.env.notion_secret;\n",
    "    let notion = new Client({ auth: notionApiKey });\n",
    "    const newestCreatedTime = loadJsonFile(df_attributes_file)[df_key]['newest_created_time']\n",
    "    console.log(`Newest record created_time: ${ newestCreatedTime }`)\n",
    "    date_filter = {\n",
    "        and: [\n",
    "            { property: 'Created time', date: { after: newestCreatedTime } },\n",
    "            { property: 'Elapsed', number: { greater_than: 0 } },\n",
    "            { property: 'Tasks', relation: { is_not_empty: true } },\n",
    "        ],\n",
    "    };\n",
    "    \n",
    "    const pages = [];\n",
    "    let cursor = undefined;\n",
    "    while (true) {\n",
    "      const {results, next_cursor} = await notion.databases.query({\n",
    "        database_id: process.env.notion_database,\n",
    "        filter: date_filter,\n",
    "        start_cursor: cursor\n",
    "      });\n",
    "      pages.push(...results);\n",
    "      if (!next_cursor) {\n",
    "        break\n",
    "      };\n",
    "      cursor = next_cursor\n",
    "    }\n",
    "    await console.log(`${pages.length} issues successfully fetched.`)\n",
    "  \n",
    "  \n",
    "    if (save) {\n",
    "        try {\n",
    "            await saveResponseJson(pages, `${jsonFileName}_${newestCreatedTime}`, appendTimestamp);\n",
    "        } catch (error) {\n",
    "            console.error(error);\n",
    "            return pages\n",
    "        }   \n",
    "    }\n",
    "    \n",
    "    return pages\n",
    "}\n",
    "\n",
    "var response = getNewNotionData('notion_df_test');"
   ]
  },
  {
   "cell_type": "code",
   "execution_count": 19,
   "metadata": {},
   "outputs": [
    {
     "name": "stdout",
     "output_type": "stream",
     "text": [
      "Promise {\n",
      "  [\n",
      "    {\n",
      "      object: 'page',\n",
      "      id: '53245a21-35e5-46da-995e-b547cc0bf860',\n",
      "      created_time: '2023-12-30T19:14:00.000Z',\n",
      "      last_edited_time: '2023-12-30T19:20:00.000Z',\n",
      "      created_by: [Object],\n",
      "      last_edited_by: [Object],\n",
      "      cover: null,\n",
      "      icon: null,\n",
      "      parent: [Object],\n",
      "      archived: false,\n",
      "      properties: [Object],\n",
      "      url: 'https://www.notion.so/2023-12-30-11-14-53245a2135e546da995eb547cc0bf860',\n",
      "      public_url: 'https://sand-gallimimus-e92.notion.site/2023-12-30-11-14-53245a2135e546da995eb547cc0bf860'\n",
      "    },\n",
      "    {\n",
      "      object: 'page',\n",
      "      id: 'c3e719b6-f92c-4c2a-a6ff-ec0f28c2e42c',\n",
      "      created_time: '2023-12-30T17:41:00.000Z',\n",
      "      last_edited_time: '2023-12-30T19:14:00.000Z',\n",
      "      created_by: [Object],\n",
      "      last_edited_by: [Object],\n",
      "      cover: null,\n",
      "      icon: null,\n",
      "      parent: [Object],\n",
      "      archived: false,\n",
      "      properties: [Object],\n",
      "      url: 'https://www.notion.so/2023-12-30-09-41-c3e719b6f92c4c2aa6ffec0f28c2e42c',\n",
      "      public_url: 'https://sand-gallimimus-e92.notion.site/2023-12-30-09-41-c3e719b6f92c4c2aa6ffec0f28c2e42c'\n",
      "    },\n",
      "    {\n",
      "      object: 'page',\n",
      "      id: 'a3984ccb-bf9b-4314-9615-3ae393717ac9',\n",
      "      created_time: '2023-12-30T04:50:00.000Z',\n",
      "      last_edited_time: '2023-12-30T05:51:00.000Z',\n",
      "      created_by: [Object],\n",
      "      last_edited_by: [Object],\n",
      "      cover: null,\n",
      "      icon: null,\n",
      "      parent: [Object],\n",
      "      archived: false,\n",
      "      properties: [Object],\n",
      "      url: 'https://www.notion.so/2023-12-29-20-50-a3984ccbbf9b431496153ae393717ac9',\n",
      "      public_url: 'https://sand-gallimimus-e92.notion.site/2023-12-29-20-50-a3984ccbbf9b431496153ae393717ac9'\n",
      "    },\n",
      "    {\n",
      "      object: 'page',\n",
      "      id: 'eaa738e0-b8aa-407d-b559-d353c1688fe8',\n",
      "      created_time: '2023-12-30T04:40:00.000Z',\n",
      "      last_edited_time: '2023-12-30T04:49:00.000Z',\n",
      "      created_by: [Object],\n",
      "      last_edited_by: [Object],\n",
      "      cover: null,\n",
      "      icon: null,\n",
      "      parent: [Object],\n",
      "      archived: false,\n",
      "      properties: [Object],\n",
      "      url: 'https://www.notion.so/2023-12-29-20-40-eaa738e0b8aa407db559d353c1688fe8',\n",
      "      public_url: 'https://sand-gallimimus-e92.notion.site/2023-12-29-20-40-eaa738e0b8aa407db559d353c1688fe8'\n",
      "    },\n",
      "    {\n",
      "      object: 'page',\n",
      "      id: 'a9a4ab4a-fa14-4da6-b5e6-d5ef7c9c2805',\n",
      "      created_time: '2023-12-30T04:04:00.000Z',\n",
      "      last_edited_time: '2023-12-30T04:49:00.000Z',\n",
      "      created_by: [Object],\n",
      "      last_edited_by: [Object],\n",
      "      cover: null,\n",
      "      icon: null,\n",
      "      parent: [Object],\n",
      "      archived: false,\n",
      "      properties: [Object],\n",
      "      url: 'https://www.notion.so/2023-12-29-20-04-a9a4ab4afa144da6b5e6d5ef7c9c2805',\n",
      "      public_url: 'https://sand-gallimimus-e92.notion.site/2023-12-29-20-04-a9a4ab4afa144da6b5e6d5ef7c9c2805'\n",
      "    },\n",
      "    {\n",
      "      object: 'page',\n",
      "      id: 'bcf7509f-c272-499f-8a2e-c939a16af279',\n",
      "      created_time: '2023-12-29T22:27:00.000Z',\n",
      "      last_edited_time: '2023-12-30T00:43:00.000Z',\n",
      "      created_by: [Object],\n",
      "      last_edited_by: [Object],\n",
      "      cover: null,\n",
      "      icon: null,\n",
      "      parent: [Object],\n",
      "      archived: false,\n",
      "      properties: [Object],\n",
      "      url: 'https://www.notion.so/2023-12-29-14-28-bcf7509fc272499f8a2ec939a16af279',\n",
      "      public_url: 'https://sand-gallimimus-e92.notion.site/2023-12-29-14-28-bcf7509fc272499f8a2ec939a16af279'\n",
      "    },\n",
      "    {\n",
      "      object: 'page',\n",
      "      id: '7003e157-dd74-4956-b2de-b051e47213df',\n",
      "      created_time: '2023-12-29T22:03:00.000Z',\n",
      "      last_edited_time: '2023-12-29T22:28:00.000Z',\n",
      "      created_by: [Object],\n",
      "      last_edited_by: [Object],\n",
      "      cover: null,\n",
      "      icon: null,\n",
      "      parent: [Object],\n",
      "      archived: false,\n",
      "      properties: [Object],\n",
      "      url: 'https://www.notion.so/2023-12-29-14-03-7003e157dd744956b2deb051e47213df',\n",
      "      public_url: 'https://sand-gallimimus-e92.notion.site/2023-12-29-14-03-7003e157dd744956b2deb051e47213df'\n",
      "    },\n",
      "    {\n",
      "      object: 'page',\n",
      "      id: 'be480772-6540-45a6-9af2-2bf080d2d085',\n",
      "      created_time: '2023-12-29T17:32:00.000Z',\n",
      "      last_edited_time: '2023-12-29T22:03:00.000Z',\n",
      "      created_by: [Object],\n",
      "      last_edited_by: [Object],\n",
      "      cover: null,\n",
      "      icon: null,\n",
      "      parent: [Object],\n",
      "      archived: false,\n",
      "      properties: [Object],\n",
      "      url: 'https://www.notion.so/2023-12-29t-09-33-be480772654045a69af22bf080d2d085',\n",
      "      public_url: 'https://sand-gallimimus-e92.notion.site/2023-12-29t-09-33-be480772654045a69af22bf080d2d085'\n",
      "    },\n",
      "    {\n",
      "      object: 'page',\n",
      "      id: 'be011f9b-3faa-4783-9dcf-b64f555539f2',\n",
      "      created_time: '2023-12-29T17:07:00.000Z',\n",
      "      last_edited_time: '2023-12-29T17:19:00.000Z',\n",
      "      created_by: [Object],\n",
      "      last_edited_by: [Object],\n",
      "      cover: null,\n",
      "      icon: null,\n",
      "      parent: [Object],\n",
      "      archived: false,\n",
      "      properties: [Object],\n",
      "      url: 'https://www.notion.so/2023-12-29-09-07s-be011f9b3faa47839dcfb64f555539f2',\n",
      "      public_url: 'https://sand-gallimimus-e92.notion.site/2023-12-29-09-07s-be011f9b3faa47839dcfb64f555539f2'\n",
      "    },\n",
      "    {\n",
      "      object: 'page',\n",
      "      id: '0ceacc3b-283c-4982-a9de-b964cc256671',\n",
      "      created_time: '2023-12-29T04:04:00.000Z',\n",
      "      last_edited_time: '2023-12-29T06:01:00.000Z',\n",
      "      created_by: [Object],\n",
      "      last_edited_by: [Object],\n",
      "      cover: null,\n",
      "      icon: null,\n",
      "      parent: [Object],\n",
      "      archived: false,\n",
      "      properties: [Object],\n",
      "      url: 'https://www.notion.so/2023-12-28-20-40-0ceacc3b283c4982a9deb964cc256671',\n",
      "      public_url: 'https://sand-gallimimus-e92.notion.site/2023-12-28-20-40-0ceacc3b283c4982a9deb964cc256671'\n",
      "    },\n",
      "    {\n",
      "      object: 'page',\n",
      "      id: '5afe268e-0e75-4094-86f6-cb0256bb0423',\n",
      "      created_time: '2023-12-29T02:49:00.000Z',\n",
      "      last_edited_time: '2023-12-29T03:58:00.000Z',\n",
      "      created_by: [Object],\n",
      "      last_edited_by: [Object],\n",
      "      cover: null,\n",
      "      icon: null,\n",
      "      parent: [Object],\n",
      "      archived: false,\n",
      "      properties: [Object],\n",
      "      url: 'https://www.notion.so/2023-12-28-18-49-5afe268e0e75409486f6cb0256bb0423',\n",
      "      public_url: 'https://sand-gallimimus-e92.notion.site/2023-12-28-18-49-5afe268e0e75409486f6cb0256bb0423'\n",
      "    },\n",
      "    {\n",
      "      object: 'page',\n",
      "      id: 'ca642965-4ab4-4582-96a3-354a7b869870',\n",
      "      created_time: '2023-12-29T02:14:00.000Z',\n",
      "      last_edited_time: '2023-12-29T02:49:00.000Z',\n",
      "      created_by: [Object],\n",
      "      last_edited_by: [Object],\n",
      "      cover: null,\n",
      "      icon: null,\n",
      "      parent: [Object],\n",
      "      archived: false,\n",
      "      properties: [Object],\n",
      "      url: 'https://www.notion.so/2023-12-28-18-14-ca6429654ab4458296a3354a7b869870',\n",
      "      public_url: 'https://sand-gallimimus-e92.notion.site/2023-12-28-18-14-ca6429654ab4458296a3354a7b869870'\n",
      "    },\n",
      "    {\n",
      "      object: 'page',\n",
      "      id: 'c7cffbf8-e4b8-47f2-885f-57e7cb477dea',\n",
      "      created_time: '2023-12-29T00:39:00.000Z',\n",
      "      last_edited_time: '2023-12-29T01:40:00.000Z',\n",
      "      created_by: [Object],\n",
      "      last_edited_by: [Object],\n",
      "      cover: null,\n",
      "      icon: null,\n",
      "      parent: [Object],\n",
      "      archived: false,\n",
      "      properties: [Object],\n",
      "      url: 'https://www.notion.so/2023-12-28-16-39-ts-c7cffbf8e4b847f2885f57e7cb477dea',\n",
      "      public_url: 'https://sand-gallimimus-e92.notion.site/2023-12-28-16-39-ts-c7cffbf8e4b847f2885f57e7cb477dea'\n",
      "    },\n",
      "    {\n",
      "      object: 'page',\n",
      "      id: '826994a8-5a0b-4d9f-95c1-f0f2fe006566',\n",
      "      created_time: '2023-12-28T20:11:00.000Z',\n",
      "      last_edited_time: '2023-12-28T21:26:00.000Z',\n",
      "      created_by: [Object],\n",
      "      last_edited_by: [Object],\n",
      "      cover: null,\n",
      "      icon: null,\n",
      "      parent: [Object],\n",
      "      archived: false,\n",
      "      properties: [Object],\n",
      "      url: 'https://www.notion.so/2023-12-28-12-11-826994a85a0b4d9f95c1f0f2fe006566',\n",
      "      public_url: 'https://sand-gallimimus-e92.notion.site/2023-12-28-12-11-826994a85a0b4d9f95c1f0f2fe006566'\n",
      "    },\n",
      "    {\n",
      "      object: 'page',\n",
      "      id: 'b0faf4fe-d380-4ce1-a45a-c989692e5f23',\n",
      "      created_time: '2023-12-28T19:54:00.000Z',\n",
      "      last_edited_time: '2023-12-28T20:11:00.000Z',\n",
      "      created_by: [Object],\n",
      "      last_edited_by: [Object],\n",
      "      cover: null,\n",
      "      icon: null,\n",
      "      parent: [Object],\n",
      "      archived: false,\n",
      "      properties: [Object],\n",
      "      url: 'https://www.notion.so/2023-12-28-11-54-b0faf4fed3804ce1a45ac989692e5f23',\n",
      "      public_url: 'https://sand-gallimimus-e92.notion.site/2023-12-28-11-54-b0faf4fed3804ce1a45ac989692e5f23'\n",
      "    },\n",
      "    {\n",
      "      object: 'page',\n",
      "      id: '5c59a032-4a9c-46ac-89f2-33fcf0b38a38',\n",
      "      created_time: '2023-12-28T19:26:00.000Z',\n",
      "      last_edited_time: '2023-12-28T20:21:00.000Z',\n",
      "      created_by: [Object],\n",
      "      last_edited_by: [Object],\n",
      "      cover: null,\n",
      "      icon: null,\n",
      "      parent: [Object],\n",
      "      archived: false,\n",
      "      properties: [Object],\n",
      "      url: 'https://www.notion.so/2023-12-28-session-w-Emin-5c59a0324a9c46ac89f233fcf0b38a38',\n",
      "      public_url: 'https://sand-gallimimus-e92.notion.site/2023-12-28-session-w-Emin-5c59a0324a9c46ac89f233fcf0b38a38'\n",
      "    },\n",
      "    {\n",
      "      object: 'page',\n",
      "      id: 'e1f9a5a2-36ce-4ca4-a12b-8e5f8e6b996a',\n",
      "      created_time: '2023-12-28T19:12:00.000Z',\n",
      "      last_edited_time: '2023-12-29T01:37:00.000Z',\n",
      "      created_by: [Object],\n",
      "      last_edited_by: [Object],\n",
      "      cover: null,\n",
      "      icon: null,\n",
      "      parent: [Object],\n",
      "      archived: false,\n",
      "      properties: [Object],\n",
      "      url: 'https://www.notion.so/2023-12-28-11-12-e1f9a5a236ce4ca4a12b8e5f8e6b996a',\n",
      "      public_url: 'https://sand-gallimimus-e92.notion.site/2023-12-28-11-12-e1f9a5a236ce4ca4a12b8e5f8e6b996a'\n",
      "    },\n",
      "    {\n",
      "      object: 'page',\n",
      "      id: 'a4f4ce8f-831a-4809-9878-c21eb4ff8e13',\n",
      "      created_time: '2023-12-28T19:10:00.000Z',\n",
      "      last_edited_time: '2023-12-28T19:12:00.000Z',\n",
      "      created_by: [Object],\n",
      "      last_edited_by: [Object],\n",
      "      cover: null,\n",
      "      icon: null,\n",
      "      parent: [Object],\n",
      "      archived: false,\n",
      "      properties: [Object],\n",
      "      url: 'https://www.notion.so/2023-12-28-a4f4ce8f831a48099878c21eb4ff8e13',\n",
      "      public_url: 'https://sand-gallimimus-e92.notion.site/2023-12-28-a4f4ce8f831a48099878c21eb4ff8e13'\n",
      "    },\n",
      "    {\n",
      "      object: 'page',\n",
      "      id: '546726b1-599e-430a-b112-a280fc7566c7',\n",
      "      created_time: '2023-12-28T19:10:00.000Z',\n",
      "      last_edited_time: '2023-12-28T19:10:00.000Z',\n",
      "      created_by: [Object],\n",
      "      last_edited_by: [Object],\n",
      "      cover: null,\n",
      "      icon: null,\n",
      "      parent: [Object],\n",
      "      archived: false,\n",
      "      properties: [Object],\n",
      "      url: 'https://www.notion.so/2023-12-28-546726b1599e430ab112a280fc7566c7',\n",
      "      public_url: 'https://sand-gallimimus-e92.notion.site/2023-12-28-546726b1599e430ab112a280fc7566c7'\n",
      "    },\n",
      "    {\n",
      "      object: 'page',\n",
      "      id: '2b167842-8746-4c60-9f0b-90ba0ee38013',\n",
      "      created_time: '2023-12-28T05:30:00.000Z',\n",
      "      last_edited_time: '2023-12-28T05:35:00.000Z',\n",
      "      created_by: [Object],\n",
      "      last_edited_by: [Object],\n",
      "      cover: null,\n",
      "      icon: null,\n",
      "      parent: [Object],\n",
      "      archived: false,\n",
      "      properties: [Object],\n",
      "      url: 'https://www.notion.so/2023-12-27-21-30-2b16784287464c609f0b90ba0ee38013',\n",
      "      public_url: 'https://sand-gallimimus-e92.notion.site/2023-12-27-21-30-2b16784287464c609f0b90ba0ee38013'\n",
      "    },\n",
      "    {\n",
      "      object: 'page',\n",
      "      id: '8825382d-e29f-4a01-ba45-63e28313b275',\n",
      "      created_time: '2023-12-28T04:16:00.000Z',\n",
      "      last_edited_time: '2023-12-28T05:18:00.000Z',\n",
      "      created_by: [Object],\n",
      "      last_edited_by: [Object],\n",
      "      cover: null,\n",
      "      icon: null,\n",
      "      parent: [Object],\n",
      "      archived: false,\n",
      "      properties: [Object],\n",
      "      url: 'https://www.notion.so/2023-12-27-20-17s-8825382de29f4a01ba4563e28313b275',\n",
      "      public_url: 'https://sand-gallimimus-e92.notion.site/2023-12-27-20-17s-8825382de29f4a01ba4563e28313b275'\n",
      "    },\n",
      "    {\n",
      "      object: 'page',\n",
      "      id: '99aa3c33-6c22-443e-9371-090eaea4a076',\n",
      "      created_time: '2023-12-28T00:02:00.000Z',\n",
      "      last_edited_time: '2023-12-28T00:09:00.000Z',\n",
      "      created_by: [Object],\n",
      "      last_edited_by: [Object],\n",
      "      cover: null,\n",
      "      icon: null,\n",
      "      parent: [Object],\n",
      "      archived: false,\n",
      "      properties: [Object],\n",
      "      url: 'https://www.notion.so/2023-12-27-16-02-99aa3c336c22443e9371090eaea4a076',\n",
      "      public_url: 'https://sand-gallimimus-e92.notion.site/2023-12-27-16-02-99aa3c336c22443e9371090eaea4a076'\n",
      "    },\n",
      "    {\n",
      "      object: 'page',\n",
      "      id: '66fe0854-a560-497d-a67d-60377fcd5c74',\n",
      "      created_time: '2023-12-27T23:26:00.000Z',\n",
      "      last_edited_time: '2023-12-28T00:00:00.000Z',\n",
      "      created_by: [Object],\n",
      "      last_edited_by: [Object],\n",
      "      cover: null,\n",
      "      icon: null,\n",
      "      parent: [Object],\n",
      "      archived: false,\n",
      "      properties: [Object],\n",
      "      url: 'https://www.notion.so/2023-12-27-15-26-66fe0854a560497da67d60377fcd5c74',\n",
      "      public_url: 'https://sand-gallimimus-e92.notion.site/2023-12-27-15-26-66fe0854a560497da67d60377fcd5c74'\n",
      "    },\n",
      "    {\n",
      "      object: 'page',\n",
      "      id: 'f72356b3-f74b-48d9-83c9-5cfb27bc0a1b',\n",
      "      created_time: '2023-12-27T22:49:00.000Z',\n",
      "      last_edited_time: '2023-12-27T23:25:00.000Z',\n",
      "      created_by: [Object],\n",
      "      last_edited_by: [Object],\n",
      "      cover: null,\n",
      "      icon: null,\n",
      "      parent: [Object],\n",
      "      archived: false,\n",
      "      properties: [Object],\n",
      "      url: 'https://www.notion.so/2023-12-27-14-49-f72356b3f74b48d983c95cfb27bc0a1b',\n",
      "      public_url: 'https://sand-gallimimus-e92.notion.site/2023-12-27-14-49-f72356b3f74b48d983c95cfb27bc0a1b'\n",
      "    }\n",
      "  ]\n",
      "}\n"
     ]
    }
   ],
   "source": [
    "console.log(response)"
   ]
  },
  {
   "cell_type": "markdown",
   "metadata": {},
   "source": [
    "# `saveResponseJson`"
   ]
  },
  {
   "cell_type": "code",
   "execution_count": null,
   "metadata": {},
   "outputs": [
    {
     "data": {
      "text/plain": [
       "Promise { <pending> }"
      ]
     },
     "execution_count": 1,
     "metadata": {},
     "output_type": "execute_result"
    },
    {
     "name": "stdout",
     "output_type": "stream",
     "text": [
      "Saved response to test.json\n"
     ]
    }
   ],
   "source": [
    "async function saveResponseJson(data, jsonFileName, appendTimestamp) {\n",
    "    const fs = require('fs');\n",
    "    try {\n",
    "        if (appendTimestamp) {\n",
    "          var {getCurrentTimestamp} = require('../src/fileFunctions');\n",
    "          const timestamp = getCurrentTimestamp();\n",
    "          jsonFileName = `${jsonFileName}_${timestamp}`\n",
    "        }\n",
    "        await fs.promises.writeFile(`${jsonFileName}.json`, JSON.stringify(data, null, 2));\n",
    "        console.log(`Saved response to ${jsonFileName}.json`);\n",
    "    } catch (error) {\n",
    "        console.error(error);\n",
    "        throw error;\n",
    "    }\n",
    "}\n",
    "\n",
    "var response = {\n",
    "    \"data\": \"test\"\n",
    "}\n",
    "\n",
    "saveResponseJson(response, 'test', appendTimestamp=false)"
   ]
  },
  {
   "cell_type": "code",
   "execution_count": null,
   "metadata": {},
   "outputs": [
    {
     "data": {
      "text/plain": [
       "Promise { <pending> }"
      ]
     },
     "execution_count": 2,
     "metadata": {},
     "output_type": "execute_result"
    },
    {
     "name": "stdout",
     "output_type": "stream",
     "text": [
      "Saved response to test_2023-12-30_1506.json\n"
     ]
    }
   ],
   "source": [
    "saveResponseJson(response, 'test', appendTimestamp=true)"
   ]
  },
  {
   "cell_type": "markdown",
   "metadata": {},
   "source": [
    "## `getNewNotionData`"
   ]
  },
  {
   "cell_type": "code",
   "execution_count": 1,
   "metadata": {},
   "outputs": [
    {
     "name": "stdout",
     "output_type": "stream",
     "text": [
      "Loading JSON file: ../data/df_attributes.json\n",
      "Newest record created_time: 2023-12-27T14:48:00-08:00\n"
     ]
    },
    {
     "name": "stdout",
     "output_type": "stream",
     "text": [
      "24 issues successfully fetched.\n",
      "Saved response to ../data/notion_time_tracking_2023-12-27T14:48:00-08:00.json\n"
     ]
    }
   ],
   "source": [
    "const {getCurrentTimestamp, loadJsonFile, saveResponseJson} = require('../src/fileFunctions')\n",
    "const { Client } = require('@notionhq/client');\n",
    "const fs = require('fs');\n",
    "\n",
    "async function getNewNotionData(\n",
    "    df_key='notion_df', df_attributes_file='../data/df_attributes.json',\n",
    "    jsonFileName='../data/notion_time_tracking', save = true, appendTimestamp = false) {\n",
    "    let notionApiKey = process.env.notion_secret;\n",
    "    let notion = new Client({ auth: notionApiKey });\n",
    "    const newestCreatedTime = loadJsonFile(df_attributes_file)[df_key]['newest_created_time']\n",
    "    console.log(`Newest record created_time: ${ newestCreatedTime }`)\n",
    "    date_filter = {\n",
    "        and: [\n",
    "            { property: 'Created time', date: { after: newestCreatedTime } },\n",
    "            { property: 'Elapsed', number: { greater_than: 0 } },\n",
    "            { property: 'Tasks', relation: { is_not_empty: true } },\n",
    "        ],\n",
    "    };\n",
    "    \n",
    "    const pages = [];\n",
    "    let cursor = undefined;\n",
    "    while (true) {\n",
    "      const {results, next_cursor} = await notion.databases.query({\n",
    "        database_id: process.env.notion_database,\n",
    "        filter: date_filter,\n",
    "        start_cursor: cursor\n",
    "      });\n",
    "      pages.push(...results);\n",
    "      if (!next_cursor) {\n",
    "        break\n",
    "      };\n",
    "      cursor = next_cursor\n",
    "    }\n",
    "    await console.log(`${pages.length} issues successfully fetched.`)\n",
    "  \n",
    "  \n",
    "    if (save) {\n",
    "        try {\n",
    "            await saveResponseJson(pages, `${jsonFileName}_${newestCreatedTime}`, appendTimestamp);\n",
    "        } catch (error) {\n",
    "            console.error(error);\n",
    "            return pages\n",
    "        }   \n",
    "    }\n",
    "    \n",
    "    return pages\n",
    "}\n",
    "\n",
    "var response = getNewNotionData(\n",
    "    'notion_df_test',  df_attributes_file='../data/df_attributes.json',\n",
    "    jsonFileName='../data/notion_time_tracking', save = true, appendTimestamp = false\n",
    "    );"
   ]
  },
  {
   "cell_type": "markdown",
   "metadata": {},
   "source": [
    "# Look at task with multiple projects"
   ]
  },
  {
   "cell_type": "code",
   "execution_count": 2,
   "metadata": {},
   "outputs": [],
   "source": [
    "var page_details = parsePage(\"0611c41e-2a7b-461e-a677-9211c20c8a9a\", database='tasks')"
   ]
  },
  {
   "cell_type": "code",
   "execution_count": 6,
   "metadata": {},
   "outputs": [
    {
     "data": {
      "text/plain": [
       "Promise {\n",
       "  {\n",
       "    Name: 'learn Solara & Ploomber',\n",
       "    'Project tags': [ 'life', 'tech ed', 'admin' ],\n",
       "    Project: '3d90e406-46c9-4468-b70d-e9e3bf2653f9',\n",
       "    'Parent-task': null,\n",
       "    'Sub-tasks': null\n",
       "  }\n",
       "}"
      ]
     },
     "execution_count": 6,
     "metadata": {},
     "output_type": "execute_result"
    }
   ],
   "source": [
    "page_details"
   ]
  },
  {
   "cell_type": "code",
   "execution_count": 2,
   "metadata": {},
   "outputs": [
    {
     "name": "stdout",
     "output_type": "stream",
     "text": [
      "Saved response to ../data/notion_page_learn_solar_ploomber_2023-12-30_2115.json\n"
     ]
    }
   ],
   "source": [
    "var page_details = retrievePage(\n",
    "    \"0611c41e-2a7b-461e-a677-9211c20c8a9a\", \n",
    "    jsonFileName='../data/notion_page_learn_solar_ploomber',\n",
    "    save = true\n",
    "    )"
   ]
  },
  {
   "cell_type": "markdown",
   "metadata": {},
   "source": [
    "# Update parsing of raw notion JSON data to get all projects for a given task"
   ]
  },
  {
   "cell_type": "code",
   "execution_count": 1,
   "metadata": {},
   "outputs": [
    {
     "name": "stdout",
     "output_type": "stream",
     "text": [
      "Current time stamp: 2023-12-30_2128\n",
      "df_key: notion_df\n",
      "Loading JSON file: ../data/raw/notionTimeTracking_quarter_2023-12-27_0045.json\n"
     ]
    },
    {
     "name": "stdout",
     "output_type": "stream",
     "text": [
      "Parsing...\n",
      "\trecord 0, id a7f579a6-5439-43b9-9e5d-f695889ac88f\n",
      "Filename saved to ../data/filenames.txt\n"
     ]
    },
    {
     "data": {
      "text/plain": [
       "Promise { <pending> }"
      ]
     },
     "execution_count": 1,
     "metadata": {},
     "output_type": "execute_result"
    },
    {
     "name": "stdout",
     "output_type": "stream",
     "text": [
      "\trecord 1, id 3b00d2c2-7b81-4443-834b-84ed72b2ec7d\n",
      "\trecord 2, id f93a93d3-5fbc-4c9d-a5d1-ceee90b098ba\n",
      "\trecord 3, id 6e291503-5d5c-42ea-a86b-7813c4164b05\n",
      "\trecord 4, id 1b4cc854-fde5-4e4b-8e1d-d1c57bb3fc8f\n",
      "\trecord 5, id b4107914-0a39-49c7-b639-61c8facd801c\n",
      "\trecord 6, id d03e6f6f-41d8-41ae-8a39-1aa2d298c81d\n",
      "\trecord 7, id bda498a5-e6f6-47dd-8ada-b725669576f1\n",
      "\trecord 8, id 00a94768-dae6-4b70-989d-dd8f0238eeed\n",
      "\trecord 9, id 148db728-8d0d-46fa-995f-8a1f00180c61\n",
      "Error for database tasks: TypeError: Cannot read properties of undefined (reading 'id')\n"
     ]
    },
    {
     "name": "stderr",
     "output_type": "stream",
     "text": [
      "TypeError: Cannot convert undefined or null to object\n",
      "    at Function.keys (<anonymous>)\n",
      "    at Object.parseTimeTracking (/home/silvhua/repositories/notion/src/notionFunctions.js:244:43)\n",
      "    at processTicksAndRejections (node:internal/process/task_queues:96:5)\n"
     ]
    },
    {
     "name": "stdout",
     "output_type": "stream",
     "text": [
      "Saved response to /home/silvhua/repositories/notion/data/notion_time_tracking_parsed_quarter_2023-12-27_0045.json\n"
     ]
    }
   ],
   "source": [
    "\n",
    "const {loadJsonFile, saveResponseJson, getCurrentTimestamp} = require('../src/fileFunctions');\n",
    "const nf = require('../src/notionFunctions');\n",
    "const path = require('path');\n",
    "const fs = require('fs');\n",
    "\n",
    "async function main() {\n",
    "    // const newest_created_time = process.argv[2];\n",
    "    // if process.argv has more than 3 elements, assign the 4th element as df_key, otherwise, df_key is 'notion_df'\n",
    "    const df_key = 'notion_df';\n",
    "    console.log(`df_key: ${df_key}`)\n",
    "  \n",
    "    // console.log(`Newest record created_time (1): ${ newest_created_time }`)\n",
    "    const root_path = '../data'\n",
    "    let jsonFileName = `${root_path}/raw/notionTimeTracking_quarter_2023-12-27_0045`;\n",
    "    const parsedJsonFileName = `${root_path}/notion_time_tracking_parsed_quarter_2023-12-27_0045`;\n",
    "    // const notionResponse = await nf.getNewNotionData(\n",
    "    //   df_key, df_attributes_file=`${root_path}/df_attributes.json`,\n",
    "    //   jsonFileName, save = true, appendTimestamp = false\n",
    "    //   )\n",
    "    // jsonFileName += `_${newest_created_time}`;\n",
    "  \n",
    "    const data = loadJsonFile(`${jsonFileName}.json`);\n",
    "    const parsedData = nf.parseTimeTracking(\n",
    "      data, save=true, path.resolve(parsedJsonFileName),\n",
    "      appendTimestamp = false\n",
    "      );\n",
    "    fs.writeFileSync(`${root_path}/filename.txt`, parsedJsonFileName, 'utf-8');\n",
    "    console.log(`Filename saved to ${root_path}/filenames.txt`);\n",
    "  }\n",
    "  \n",
    "  main().catch(error => {\n",
    "    console.error('Error:', error);\n",
    "  });"
   ]
  },
  {
   "cell_type": "markdown",
   "metadata": {},
   "source": [
    "## troubleshoot problem page"
   ]
  },
  {
   "cell_type": "code",
   "execution_count": 2,
   "metadata": {},
   "outputs": [
    {
     "name": "stdout",
     "output_type": "stream",
     "text": [
      "Saved response to ../data/notion_page_148db728-8d0d-46fa-995f-8a1f00180c61_2023-12-30_2148.json\n"
     ]
    }
   ],
   "source": [
    "var page_details = retrievePage(\n",
    "    \"148db728-8d0d-46fa-995f-8a1f00180c61\", \n",
    "    jsonFileName='../data/notion_page_148db728-8d0d-46fa-995f-8a1f00180c61',\n",
    "    save = true\n",
    "    )"
   ]
  },
  {
   "cell_type": "code",
   "execution_count": 8,
   "metadata": {},
   "outputs": [
    {
     "name": "stdout",
     "output_type": "stream",
     "text": [
      "Promise { <pending> }\n"
     ]
    }
   ],
   "source": [
    "var page_details = parsePage(\n",
    "    \"1020f71e-cc88-44b5-847c-711b9f28f68a\"\n",
    ")\n",
    "console.log(page_details)"
   ]
  },
  {
   "cell_type": "code",
   "execution_count": 9,
   "metadata": {},
   "outputs": [
    {
     "name": "stdout",
     "output_type": "stream",
     "text": [
      "Promise {\n",
      "  {\n",
      "    Name: 'adding user notes to Jane app',\n",
      "    'Project tags': [ 'Ginkgo work' ],\n",
      "    Project: '8ae55237-e37d-4c4c-a9f0-38aeb1925987',\n",
      "    'Parent-task': null,\n",
      "    'Sub-tasks': null\n",
      "  }\n",
      "}\n"
     ]
    }
   ],
   "source": [
    "console.log(page_details)"
   ]
  },
  {
   "cell_type": "code",
   "execution_count": 10,
   "metadata": {},
   "outputs": [
    {
     "name": "stdout",
     "output_type": "stream",
     "text": [
      "Error for database tasks: TypeError: Cannot read properties of undefined (reading 'id')\n"
     ]
    }
   ],
   "source": [
    "var page_details9 = parsePage(\n",
    "    \"330197b7-8921-4f6f-81b2-a7c942df647c\"\n",
    ")"
   ]
  },
  {
   "cell_type": "markdown",
   "metadata": {},
   "source": [
    "## Look at tasks with multiple projects"
   ]
  },
  {
   "cell_type": "code",
   "execution_count": 11,
   "metadata": {},
   "outputs": [
    {
     "name": "stdout",
     "output_type": "stream",
     "text": [
      "Saved response to ../data/notion_page_0611c41e-2a7b-461e-a677-9211c20c8a9a_2023-12-30_2244.json\n"
     ]
    }
   ],
   "source": [
    "var taskId = '0611c41e-2a7b-461e-a677-9211c20c8a9a'\n",
    "var page_details = retrievePage(\n",
    "    taskId, \n",
    "    jsonFileName=`../data/notion_page_${taskId}`,\n",
    "    save = true\n",
    "    )"
   ]
  },
  {
   "cell_type": "code",
   "execution_count": 12,
   "metadata": {},
   "outputs": [
    {
     "name": "stdout",
     "output_type": "stream",
     "text": [
      "Promise { <pending> }\n"
     ]
    },
    {
     "name": "stdout",
     "output_type": "stream",
     "text": [
      "Error for database tasks: TypeError: Cannot read properties of undefined (reading 'rollup')\n"
     ]
    }
   ],
   "source": [
    "var page_details = parsePage(\n",
    "    \"53245a21-35e5-46da-995e-b547cc0bf860\"\n",
    ")\n",
    "console.log(page_details)"
   ]
  },
  {
   "cell_type": "code",
   "execution_count": null,
   "metadata": {},
   "outputs": [],
   "source": []
  },
  {
   "cell_type": "code",
   "execution_count": null,
   "metadata": {},
   "outputs": [],
   "source": []
  },
  {
   "cell_type": "code",
   "execution_count": null,
   "metadata": {},
   "outputs": [],
   "source": []
  },
  {
   "cell_type": "code",
   "execution_count": null,
   "metadata": {},
   "outputs": [],
   "source": []
  },
  {
   "cell_type": "code",
   "execution_count": null,
   "metadata": {},
   "outputs": [],
   "source": []
  },
  {
   "cell_type": "code",
   "execution_count": null,
   "metadata": {},
   "outputs": [],
   "source": []
  },
  {
   "cell_type": "code",
   "execution_count": null,
   "metadata": {},
   "outputs": [],
   "source": []
  },
  {
   "cell_type": "code",
   "execution_count": null,
   "metadata": {},
   "outputs": [],
   "source": []
  },
  {
   "cell_type": "code",
   "execution_count": null,
   "metadata": {},
   "outputs": [],
   "source": []
  },
  {
   "attachments": {},
   "cell_type": "markdown",
   "metadata": {},
   "source": [
    "# *End of Page*"
   ]
  }
 ],
 "metadata": {
  "kernelspec": {
   "display_name": "JavaScript (Node.js)",
   "language": "javascript",
   "name": "javascript"
  },
  "language_info": {
   "file_extension": ".js",
   "mimetype": "application/javascript",
   "name": "javascript",
   "version": "17.9.1"
  },
  "orig_nbformat": 4,
  "vscode": {
   "interpreter": {
    "hash": "11938c6bc6919ae2720b4d5011047913343b08a43b18698fd82dedb0d4417594"
   }
  }
 },
 "nbformat": 4,
 "nbformat_minor": 2
}
